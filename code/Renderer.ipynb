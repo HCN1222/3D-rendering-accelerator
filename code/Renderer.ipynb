{
 "cells": [
  {
   "cell_type": "code",
   "execution_count": 2,
   "metadata": {},
   "outputs": [
    {
     "data": {
      "text/plain": [
       "1.6"
      ]
     },
     "execution_count": 2,
     "metadata": {},
     "output_type": "execute_result"
    }
   ],
   "source": [
    "1/1280*2**11"
   ]
  },
  {
   "cell_type": "markdown",
   "metadata": {
    "id": "u0smMdWjwzzo"
   },
   "source": [
    "# Install packages and mount google drive"
   ]
  },
  {
   "cell_type": "code",
   "execution_count": null,
   "metadata": {
    "colab": {
     "base_uri": "https://localhost:8080/"
    },
    "id": "udHQSTpWvzAx",
    "outputId": "307063ba-9d51-4eec-e8bc-187b1a281663"
   },
   "outputs": [
    {
     "name": "stdout",
     "output_type": "stream",
     "text": [
      "Requirement already satisfied: numpy in /usr/local/lib/python3.10/dist-packages (1.26.4)\n",
      "Requirement already satisfied: PyOpenGL in /usr/local/lib/python3.10/dist-packages (3.1.7)\n",
      "Collecting glfw\n",
      "  Downloading glfw-2.8.0-py2.py27.py3.py30.py31.py32.py33.py34.py35.py36.py37.py38.p39.p310.p311.p312.p313-none-manylinux_2_28_x86_64.whl.metadata (5.4 kB)\n",
      "Downloading glfw-2.8.0-py2.py27.py3.py30.py31.py32.py33.py34.py35.py36.py37.py38.p39.p310.p311.p312.p313-none-manylinux_2_28_x86_64.whl (243 kB)\n",
      "\u001b[2K   \u001b[90m━━━━━━━━━━━━━━━━━━━━━━━━━━━━━━━━━━━━━━━━\u001b[0m \u001b[32m243.4/243.4 kB\u001b[0m \u001b[31m4.2 MB/s\u001b[0m eta \u001b[36m0:00:00\u001b[0m\n",
      "\u001b[?25hInstalling collected packages: glfw\n",
      "Successfully installed glfw-2.8.0\n",
      "Collecting pyrr\n",
      "  Downloading pyrr-0.10.3-py3-none-any.whl.metadata (832 bytes)\n",
      "Requirement already satisfied: numpy in /usr/local/lib/python3.10/dist-packages (from pyrr) (1.26.4)\n",
      "Requirement already satisfied: multipledispatch in /usr/local/lib/python3.10/dist-packages (from pyrr) (1.0.0)\n",
      "Downloading pyrr-0.10.3-py3-none-any.whl (46 kB)\n",
      "\u001b[2K   \u001b[90m━━━━━━━━━━━━━━━━━━━━━━━━━━━━━━━━━━━━━━━━\u001b[0m \u001b[32m46.8/46.8 kB\u001b[0m \u001b[31m2.0 MB/s\u001b[0m eta \u001b[36m0:00:00\u001b[0m\n",
      "\u001b[?25hInstalling collected packages: pyrr\n",
      "Successfully installed pyrr-0.10.3\n"
     ]
    }
   ],
   "source": [
    "# prompt: install libraries such as numpy\n",
    "\n",
    "!pip install numpy\n",
    "!pip install PyOpenGL glfw\n",
    "!pip install pyrr"
   ]
  },
  {
   "cell_type": "code",
   "execution_count": null,
   "metadata": {
    "colab": {
     "base_uri": "https://localhost:8080/"
    },
    "id": "lWlElQtWwCeu",
    "outputId": "532e2b64-bcaa-4084-d25c-84b3edbcde0f"
   },
   "outputs": [
    {
     "name": "stdout",
     "output_type": "stream",
     "text": [
      "Mounted at /content/drive\n"
     ]
    }
   ],
   "source": [
    "from google.colab import drive\n",
    "drive.mount('/content/drive')"
   ]
  },
  {
   "cell_type": "code",
   "execution_count": 3,
   "metadata": {
    "id": "OHAjQGjIRUtp"
   },
   "outputs": [],
   "source": [
    "#import glfw\n",
    "from OpenGL.GL import *\n",
    "import numpy as np\n",
    "#import pyrr\n",
    "import matplotlib.pyplot as plt"
   ]
  },
  {
   "cell_type": "markdown",
   "metadata": {
    "id": "X_NGqoYlzEpU"
   },
   "source": [
    "# Vertex shading"
   ]
  },
  {
   "cell_type": "markdown",
   "metadata": {
    "id": "brC2YUj5xDmZ"
   },
   "source": [
    "## Webber's first edition"
   ]
  },
  {
   "cell_type": "code",
   "execution_count": null,
   "metadata": {
    "id": "VcPC61CFEfxn"
   },
   "outputs": [],
   "source": [
    "# Function to load .obj file\n",
    "def load_obj(filepath):\n",
    "    \"\"\"\n",
    "    Load a .obj file and extract vertex positions.\n",
    "    filepath: Path to the .obj file\n",
    "    Returns: Nx3 numpy array of vertex positions\n",
    "    \"\"\"\n",
    "    vertices = []\n",
    "    with open(filepath, 'r') as file:\n",
    "        for line in file:\n",
    "            if line.startswith('v '):  # Line defines a vertex\n",
    "                parts = line.split()\n",
    "                vertices.append([float(parts[1]), float(parts[2]), float(parts[3])])\n",
    "    return np.array(vertices)\n",
    "\n",
    "def find_view_matrix(eye, lookat, up):\n",
    "    \"\"\"\n",
    "    eye: camera position\n",
    "    lookat: the way it forward\n",
    "    up: camera upward vector\n",
    "\n",
    "    \"\"\"\n",
    "    # 確保輸入是 numpy 數組\n",
    "    eye = np.array(eye)\n",
    "    lookat = np.array(lookat)\n",
    "    up = np.array(up)\n",
    "\n",
    "    # 計算 z 軸（視線方向）\n",
    "    z = eye - lookat\n",
    "    z = z / np.linalg.norm(z)\n",
    "\n",
    "    # 計算 x 軸（右方向）\n",
    "    x = np.cross(up, z)\n",
    "    x = x / np.linalg.norm(x)\n",
    "\n",
    "    # 計算 y 軸（上方向）\n",
    "    y = np.cross(z, x)\n",
    "    y = y / np.linalg.norm(y)\n",
    "\n",
    "    # 建立視圖矩陣\n",
    "    result = np.zeros((4, 4))\n",
    "\n",
    "    result[0, 0] = x[0]\n",
    "    result[1, 0] = x[1]\n",
    "    result[2, 0] = x[2]\n",
    "    result[3, 0] = 0.0\n",
    "\n",
    "    result[0, 1] = y[0]\n",
    "    result[1, 1] = y[1]\n",
    "    result[2, 1] = y[2]\n",
    "    result[3, 1] = 0.0\n",
    "\n",
    "    result[0, 2] = z[0]\n",
    "    result[1, 2] = z[1]\n",
    "    result[2, 2] = z[2]\n",
    "    result[3, 2] = 0.0\n",
    "\n",
    "    result[0, 3] = -np.dot(x, eye)\n",
    "    result[1, 3] = -np.dot(y, eye)\n",
    "    result[2, 3] = -np.dot(z, eye)\n",
    "    result[3, 3] = 1.0\n",
    "\n",
    "    return result\n",
    "\n",
    "# Function to create a perspective projection matrix\n",
    "def perspective_projection(FOVy, aspect, near, far):\n",
    "    \"\"\"\n",
    "    Create a perspective projection matrix.\n",
    "    fov: Field of view in degrees\n",
    "    aspect: Aspect ratio (width / height)\n",
    "    near: Near clipping plane\n",
    "    far: Far clipping plane\n",
    "    \"\"\"\n",
    "\n",
    "    FOVx = 2 * np.arctan(np.tan( np.radians(FOVy)/2 ) * aspect) #radians not degree\n",
    "\n",
    "    fx = 1.0 / np.tan(FOVx/2)\n",
    "    fy = 1.0 / np.tan(np.radians(FOVy)/2)\n",
    "\n",
    "\n",
    "    # fy_N = 1.0 / np.tan( np.radians( FOVy ) / 2 )\n",
    "    # fx_N = fy_N / aspect\n",
    "    # assert fx == fx_N\n",
    "    # assert fy == fy_N\n",
    "    # print(\"GOOD\")\n",
    "\n",
    "    #print(fx)\n",
    "    #print(FOVx)\n",
    "\n",
    "    return np.array(\n",
    "        [[fx, 0,  0, 0],\n",
    "        [0, fy,  0, 0],\n",
    "        [0, 0, -(far+near)/(far-near), (-2*far*near)/(far-near)],\n",
    "        [0, 0, -1,  0]])\n",
    "\n",
    "\n",
    "# Function to transform 3D vertices to clip space\n",
    "def transform_to_clip_space(vertices, model_matrix, view_matrix, projection_matrix):\n",
    "    \"\"\"\n",
    "    Transform 3D vertices to clip space.\n",
    "    vertices: Nx3 array of 3D vertex positions\n",
    "    model_matrix: 4x4 model transformation matrix\n",
    "    view_matrix: 4x4 view transformation matrix\n",
    "    projection_matrix: 4x4 projection transformation matrix\n",
    "    \"\"\"\n",
    "    # Convert vertices to homogeneous coordinates\n",
    "    vertices_homogeneous = np.hstack((vertices, np.ones((vertices.shape[0], 1))))\n",
    "\n",
    "    # Apply model, view, and projection matrices\n",
    "    mvp_matrix = projection_matrix @ ( view_matrix @ model_matrix )\n",
    "    transformed_vertices = vertices_homogeneous @ mvp_matrix.T\n",
    "\n",
    "    return transformed_vertices\n",
    "\n",
    "# Load vertices from OBJ file\n",
    "filepath = \"/content/drive/MyDrive/ICLAB_mesh/box.obj\"\n",
    "vertices = load_obj(filepath)\n",
    "\n",
    "# Define model, view, and projection matrices\n",
    "model_matrix = np.eye(4)  # Identity matrix for simplicity\n",
    "view_matrix = np.eye(4)  # Identity matrix for simplicity\n",
    "\n",
    "eye = np.array([3.0, 3.0, 3.0])     # Camera position\n",
    "lookat = np.array([0, 0, 0])   # Target point\n",
    "up = np.array([0.0, 1.0, 0.0])     # Up direction\n",
    "\n",
    "# Compute view matrix\n",
    "view_matrix = find_view_matrix(eye, lookat, up)\n",
    "\n",
    "# Define perspective projection parameters\n",
    "fov = 60                            # Field of view in degrees\n",
    "aspect = 16 / 9                        # Aspect ratio (1280/720)\n",
    "near = 1                            # Near clipping plane\n",
    "far = 10                            # Far clipping plane\n",
    "\n",
    "# Compute projection matrix\n",
    "projection_matrix = perspective_projection(fov, aspect, near, far)\n",
    "\n",
    "# Transform vertices to clip space\n",
    "clip_space_vertices = transform_to_clip_space(vertices, model_matrix, view_matrix, projection_matrix)\n",
    "\n",
    "\n"
   ]
  },
  {
   "cell_type": "code",
   "execution_count": null,
   "metadata": {
    "colab": {
     "base_uri": "https://localhost:8080/"
    },
    "id": "D4_ygHP9743Q",
    "outputId": "858ef78e-e9af-41a9-97eb-2eb5197a8bc8"
   },
   "outputs": [
    {
     "name": "stdout",
     "output_type": "stream",
     "text": [
      "Vertices loaded:\n",
      "[[-1. -1. -1.]\n",
      " [-1. -1.  1.]\n",
      " [-1.  1. -1.]\n",
      " [-1.  1.  1.]\n",
      " [ 1. -1. -1.]\n",
      " [ 1. -1.  1.]\n",
      " [ 1.  1. -1.]\n",
      " [ 1.  1.  1.]]\n",
      "Shape of vertices: (8, 3)\n",
      "\n",
      "Projection Matrix:\n",
      "[[ 0.97427858  0.          0.          0.        ]\n",
      " [ 0.          1.73205081  0.          0.        ]\n",
      " [ 0.          0.         -1.22222222 -2.22222222]\n",
      " [ 0.          0.         -1.          0.        ]]\n",
      "\n",
      "MVP Matrix:\n",
      "[[ 0.68891899 -0.39774756  0.5625      0.        ]\n",
      " [ 0.          1.41421356  1.          0.        ]\n",
      " [ 0.86424162  0.49897013 -0.70565033  4.12863074]\n",
      " [ 0.70710678  0.40824829 -0.57735027  5.19615242]]\n",
      "\n",
      "view_matrix\n",
      "[[ 0.70710678 -0.40824829  0.57735027 -0.        ]\n",
      " [ 0.          0.81649658  0.57735027 -0.        ]\n",
      " [-0.70710678 -0.40824829  0.57735027 -5.19615242]\n",
      " [ 0.          0.          0.          1.        ]]\n",
      "\n",
      "Clip Space Vertices:\n",
      "[[-0.85367143 -2.41421356  3.47106931  4.65814762]\n",
      " [ 0.27132857 -0.41421356  2.05976866  3.50344708]\n",
      " [-1.64916655  0.41421356  4.46900958  5.4746442 ]\n",
      " [-0.52416655  2.41421356  3.05770892  4.31994366]\n",
      " [ 0.52416655 -2.41421356  5.19955256  6.07236118]\n",
      " [ 1.64916655 -0.41421356  3.7882519   4.91766064]\n",
      " [-0.27132857  0.41421356  6.19749282  6.88885776]\n",
      " [ 0.85367143  2.41421356  4.78619216  5.73415723]]\n",
      "\n",
      "Clip Space Vertices Range:\n",
      "Min X: -1.649166554575202 Max X: 1.649166554575202\n",
      "Min Y: -2.414213562373095 Max Y: 2.414213562373095\n",
      "Min Z: 2.0597686556147288 Max Z: 6.197492822112595\n",
      "Min W: 3.5034470818665957 Max W: 6.888857763546668\n"
     ]
    }
   ],
   "source": [
    "# Printing the necessary debugging information to identify issues\n",
    "\n",
    "# Print loaded vertices\n",
    "print(\"Vertices loaded:\")\n",
    "print(vertices)\n",
    "print(\"Shape of vertices:\", vertices.shape)\n",
    "\n",
    "# Print the projection matrix\n",
    "print(\"\\nProjection Matrix:\")\n",
    "print(projection_matrix)\n",
    "\n",
    "# Compute and print the MVP matrix\n",
    "mvp_matrix = projection_matrix @ (view_matrix @ model_matrix)\n",
    "print(\"\\nMVP Matrix:\")\n",
    "print(mvp_matrix)\n",
    "\n",
    "print(\"\\nview_matrix\")\n",
    "print(view_matrix)\n",
    "\n",
    "# Print the clip space vertices\n",
    "print(\"\\nClip Space Vertices:\")\n",
    "print(clip_space_vertices)\n",
    "\n",
    "# Print the ranges of clip space vertices\n",
    "print(\"\\nClip Space Vertices Range:\")\n",
    "print(\"Min X:\", clip_space_vertices[:, 0].min(), \"Max X:\", clip_space_vertices[:, 0].max())\n",
    "print(\"Min Y:\", clip_space_vertices[:, 1].min(), \"Max Y:\", clip_space_vertices[:, 1].max())\n",
    "print(\"Min Z:\", clip_space_vertices[:, 2].min(), \"Max Z:\", clip_space_vertices[:, 2].max())\n",
    "print(\"Min W:\", clip_space_vertices[:, 3].min(), \"Max W:\", clip_space_vertices[:, 3].max())\n"
   ]
  },
  {
   "cell_type": "code",
   "execution_count": null,
   "metadata": {
    "colab": {
     "base_uri": "https://localhost:8080/"
    },
    "id": "Nq7ytSZb2Klx",
    "outputId": "f6d1f8c0-cd0d-49ac-a9fe-5b6d6b0d32f2"
   },
   "outputs": [
    {
     "data": {
      "text/plain": [
       "array([[-0.18326414, -0.5182776 ,  0.74516087],\n",
       "       [ 0.07744617, -0.11823029,  0.58792629],\n",
       "       [-0.30123721,  0.07566036,  0.81631051],\n",
       "       [-0.12133643,  0.55885302,  0.70781222],\n",
       "       [ 0.08632006, -0.3975741 ,  0.85626536],\n",
       "       [ 0.33535591, -0.0842298 ,  0.77033618],\n",
       "       [-0.03938658,  0.06012805,  0.89964012],\n",
       "       [ 0.14887479,  0.42102326,  0.83468101]])"
      ]
     },
     "execution_count": 6,
     "metadata": {},
     "output_type": "execute_result"
    }
   ],
   "source": [
    "# Perform homogeneous division to convert to NDC space\n",
    "ndc_space_vertices = clip_space_vertices[:, :3] / clip_space_vertices[:, 3][:, np.newaxis]\n",
    "\n",
    "ndc_space_vertices\n"
   ]
  },
  {
   "cell_type": "code",
   "execution_count": null,
   "metadata": {
    "colab": {
     "base_uri": "https://localhost:8080/"
    },
    "id": "H-18puEb5RaP",
    "outputId": "1cc03269-a9df-4e36-945b-f6b426ae84eb"
   },
   "outputs": [
    {
     "data": {
      "text/plain": [
       "array([[522.71094928, 546.57993548],\n",
       "       [689.56555172, 402.56290418],\n",
       "       [447.20818447, 332.76226966],\n",
       "       [562.34468291, 158.81291278],\n",
       "       [695.24483555, 503.1266778 ],\n",
       "       [854.62778164, 390.32272726],\n",
       "       [614.79258631, 338.35390313],\n",
       "       [735.27986259, 208.43162677]])"
      ]
     },
     "execution_count": 7,
     "metadata": {},
     "output_type": "execute_result"
    }
   ],
   "source": [
    "def ndc_to_screen(ndc_vertices, width, height):\n",
    "    \"\"\"\n",
    "    將 NDC 空間座標轉換為屏幕 2D 像素座標\n",
    "    ndc_vertices: Nx3 numpy array，NDC 空間中的頂點\n",
    "    width: 螢幕寬度（像素）\n",
    "    height: 螢幕高度（像素）\n",
    "    Returns: Nx2 numpy array，屏幕空間的 2D 像素座標\n",
    "    \"\"\"\n",
    "    # 提取 NDC 的 x 和 y 座標\n",
    "    ndc_x = ndc_vertices[:, 0]\n",
    "    ndc_y = ndc_vertices[:, 1]\n",
    "\n",
    "    # 映射到屏幕座標\n",
    "    screen_x = (ndc_x + 1) / 2 * width\n",
    "    screen_y = (1 - (ndc_y + 1) / 2) * height  # 注意 Y 軸需要翻轉\n",
    "\n",
    "    # 組合為 Nx2 的座標陣列\n",
    "    screen_coords = np.column_stack((screen_x, screen_y))\n",
    "    return screen_coords\n",
    "\n",
    "screen_coords = ndc_to_screen(ndc_space_vertices,1280,720)\n",
    "screen_coords"
   ]
  },
  {
   "cell_type": "code",
   "execution_count": null,
   "metadata": {
    "colab": {
     "base_uri": "https://localhost:8080/",
     "height": 449
    },
    "id": "9CXrhOBo5Tmi",
    "outputId": "f081c5e4-6c5c-44c6-c81c-2e22b1100227"
   },
   "outputs": [
    {
     "data": {
      "image/png": "[encoded data removed]",
      "text/plain": [
       "<Figure size 800x450 with 1 Axes>"
      ]
     },
     "metadata": {},
     "output_type": "display_data"
    }
   ],
   "source": [
    "import matplotlib.pyplot as plt\n",
    "\n",
    "# 繪製屏幕空間的 2D 座標\n",
    "def plot_screen_coords(screen_coords, width, height):\n",
    "    plt.figure(figsize=(8, 4.5))\n",
    "    plt.scatter(screen_coords[:, 0], screen_coords[:, 1], color='red', label='Screen Coordinates')\n",
    "    plt.xlim(0, width)\n",
    "    plt.ylim(height, 0)  # 螢幕的 Y 軸是向下的\n",
    "    plt.title(\"Screen Space Coordinates\")\n",
    "    plt.xlabel(\"X (pixels)\")\n",
    "    plt.ylabel(\"Y (pixels)\")\n",
    "    plt.grid(True)\n",
    "    plt.legend()\n",
    "    plt.show()\n",
    "\n",
    "# 繪製\n",
    "plot_screen_coords(screen_coords, 1280, 720)"
   ]
  },
  {
   "cell_type": "markdown",
   "metadata": {
    "id": "Deintt3bLmh0"
   },
   "source": [
    "---\n",
    "# Load inputs"
   ]
  },
  {
   "cell_type": "markdown",
   "metadata": {
    "id": "av63WWATMwYS"
   },
   "source": [
    "## OBJ & PLY"
   ]
  },
  {
   "cell_type": "code",
   "execution_count": 4,
   "metadata": {
    "id": "1lnUQrRdLpcH"
   },
   "outputs": [],
   "source": [
    "class Mesh:\n",
    "    def __init__(self):\n",
    "        self.vertices = np.array([[]])\n",
    "        self.faces = np.array([[]])\n",
    "        self.colors = np.array([[]])  # Optional: To store vertex colors\n",
    "\n",
    "        #calculated results\n",
    "        self.clip_space_vertices = np.array([[]])\n",
    "        self.NDC_vertices = np.array([[]])\n",
    "        self.screen_space_vertices = np.array([[]])\n",
    "\n",
    "    def load_obj(self, filepath):\n",
    "        \"\"\"\n",
    "        Load a .obj file and extract vertex positions.\n",
    "        filepath: Path to the .obj file\n",
    "        Returns: Nx3 numpy array of vertex positions\n",
    "        \"\"\"\n",
    "        vertices = []\n",
    "        faces = []\n",
    "        with open(filepath, 'r') as file:\n",
    "            for line in file:\n",
    "                if line.startswith('v '):  # Line defines a vertex\n",
    "                    parts = line.strip().split()\n",
    "                    if len(parts) >= 4:\n",
    "                        vertices.append([float(parts[1]), float(parts[2]), float(parts[3])])\n",
    "                elif line.startswith('f '):  # Line defines a face\n",
    "                    parts = line.strip().split()\n",
    "                    # OBJ indices are 1-based, so we subtract 1 for 0-based indexing\n",
    "                    face = [int(part.split('/')[0]) - 1 for part in parts[1:4]]\n",
    "                    faces.append(face)\n",
    "        self.vertices = np.array(vertices)\n",
    "        self.faces = np.array(faces)\n",
    "\n",
    "    def load_ply(self, filepath):\n",
    "        \"\"\"\n",
    "        Load a .ply file and extract vertex positions and face indices.\n",
    "        Assumes the PLY file is in ASCII format with properties: x, y, z, red, green, blue\n",
    "        and faces defined as a list of vertex indices.\n",
    "\n",
    "        filepath: Path to the .ply file\n",
    "        \"\"\"\n",
    "        with open(filepath, 'r') as file:\n",
    "            line = file.readline().strip()\n",
    "            if line != 'ply':\n",
    "                raise ValueError(\"The file does not start with 'ply' header.\")\n",
    "\n",
    "            # Initialize variables\n",
    "            num_vertices = 0\n",
    "            num_faces = 0\n",
    "            header_ended = False\n",
    "            properties = []\n",
    "\n",
    "            # Parse header\n",
    "            while not header_ended:\n",
    "                line = file.readline().strip()\n",
    "                if line.startswith('element vertex'):\n",
    "                    num_vertices = int(line.split()[-1])\n",
    "                elif line.startswith('element face'):\n",
    "                    num_faces = int(line.split()[-1])\n",
    "                elif line.startswith('property'):\n",
    "                    properties.append(line)\n",
    "                elif line == 'end_header':\n",
    "                    header_ended = True\n",
    "\n",
    "            # Determine property indices (optional: if you want to store colors)\n",
    "            property_names = [prop.split()[-1] for prop in properties]\n",
    "            try:\n",
    "                x_idx = property_names.index('x')\n",
    "                y_idx = property_names.index('y')\n",
    "                z_idx = property_names.index('z')\n",
    "            except ValueError:\n",
    "                raise ValueError(\"PLY file does not contain x, y, z properties.\")\n",
    "\n",
    "            # Optional: Check for color properties\n",
    "            has_color = all(color in property_names for color in ['red', 'green', 'blue'])\n",
    "            if has_color:\n",
    "                red_idx = property_names.index('red')\n",
    "                green_idx = property_names.index('green')\n",
    "                blue_idx = property_names.index('blue')\n",
    "\n",
    "            # Read vertex data\n",
    "            vertices = []\n",
    "            colors = []\n",
    "            for _ in range(num_vertices):\n",
    "                parts = file.readline().strip().split()\n",
    "                if len(parts) < 3:\n",
    "                    raise ValueError(\"Vertex line does not have enough coordinates.\")\n",
    "                vertex = [float(parts[x_idx]), float(parts[y_idx]), float(parts[z_idx])]\n",
    "                vertices.append(vertex)\n",
    "                if has_color:\n",
    "                    color = [int(parts[red_idx]), int(parts[green_idx]), int(parts[blue_idx])]\n",
    "                    colors.append(color)\n",
    "\n",
    "            self.vertices = np.array(vertices)\n",
    "            if has_color:\n",
    "                self.colors = np.array(colors)\n",
    "            else:\n",
    "                self.colors = None  # Or handle as needed\n",
    "\n",
    "            # Read face data\n",
    "            faces = []\n",
    "            for _ in range(num_faces):\n",
    "                parts = file.readline().strip().split()\n",
    "                if len(parts) < 4:\n",
    "                    raise ValueError(\"Face line does not have enough indices.\")\n",
    "                vertex_count = int(parts[0])\n",
    "                if vertex_count != 3:\n",
    "                    raise ValueError(\"Only triangular faces are supported.\")\n",
    "                # PLY indices are 0-based\n",
    "                face = [int(idx) for idx in parts[1:4]]\n",
    "                faces.append(face)\n",
    "\n",
    "            self.faces = np.array(faces)"
   ]
  },
  {
   "cell_type": "markdown",
   "metadata": {
    "id": "5ofFXygiv0TG"
   },
   "source": [
    "### Test"
   ]
  },
  {
   "cell_type": "code",
   "execution_count": 5,
   "metadata": {
    "id": "WIglNLDeLt41"
   },
   "outputs": [],
   "source": [
    "mesh = Mesh()\n",
    "mesh.load_ply( '../mesh/box.ply' )"
   ]
  },
  {
   "cell_type": "markdown",
   "metadata": {
    "id": "B9Hp1QZaMoJs"
   },
   "source": [
    "## Camera\n",
    "\n",
    "**Arguments**  \n",
    "1. Camera postions\n",
    "  - `eye`: The position of the camara.\n",
    "  - `center`: The center of the screen space.  \n",
    "    - Camera facing direction: (`eye` - `center`)\n",
    "  - `up`: The Up direction of the camera.  \n",
    "2. Screen\n",
    "  - `screen_W`: The width of the screen.\n",
    "  - `screen_H`: The height of the screen.\n",
    "    - aspect_ratio: `screen_W` / `screen_H`\n",
    "  - `screen_buffer`: The array with W*H pixels, each presented with RGB.\n",
    "3. Projection parameters\n",
    "  - `near_clipping_plane`: The near clipping plane.\n",
    "  - `far_clipping_plane`: The far clipping plane.\n",
    "  - `fov`: The vertival field of view in degrees.(FOVy)"
   ]
  },
  {
   "cell_type": "code",
   "execution_count": 6,
   "metadata": {
    "id": "_AnOfXLjM1qp"
   },
   "outputs": [],
   "source": [
    "class Camera:\n",
    "    def __init__(self, eyeX: float,   eyeY: float,   eyeZ: float,\n",
    "              centerX: float,  centerY: float, centerZ: float,\n",
    "              upX: float,    upY: float,   upZ: float,\n",
    "              screen_W: int, screen_H: int,\n",
    "              near_clipping_plane: float, far_clipping_plane: float,\n",
    "              fov: float):\n",
    "        self.eyeX = eyeX\n",
    "        self.eyeY = eyeY\n",
    "        self.eyeZ = eyeZ\n",
    "        self.eye = np.array([eyeX, eyeY, eyeZ])\n",
    "        self.centerX = centerX\n",
    "        self.centerY = centerY\n",
    "        self.centerZ = centerZ\n",
    "        self.center = np.array([centerX, centerY, centerZ])\n",
    "        self.upX = upX\n",
    "        self.upY = upY\n",
    "        self.upZ = upZ\n",
    "        self.up = np.array([upX, upY, upZ])\n",
    "\n",
    "        self.screen_W = screen_W\n",
    "        self.screen_H = screen_H\n",
    "        self.aspect_ratio = screen_W / screen_H\n",
    "        self.screen_buffer = np.zeros((screen_H, screen_W, 3), dtype=np.uint8)\n",
    "        self.screen_buffer.fill(255)\n",
    "        self.screen_depth_buffer = np.zeros((screen_H, screen_W))\n",
    "        self.screen_depth_buffer.fill(1.1)\n",
    "\n",
    "        self.near_clipping_plane = near_clipping_plane\n",
    "        self.far_clipping_plane = far_clipping_plane\n",
    "        self.fov = fov\n",
    "    def set_eye(self, eyeX: float, eyeY: float, eyeZ: float):\n",
    "        self.eyeX = eyeX\n",
    "        self.eyeY = eyeY\n",
    "        self.eyeZ = eyeZ\n",
    "        self.eye = np.array([eyeX, eyeY, eyeZ])\n",
    "    def draw_screen(self):\n",
    "        plt.imshow(self.screen_buffer)\n",
    "        plt.axis('off')\n",
    "        plt.show()\n"
   ]
  },
  {
   "cell_type": "code",
   "execution_count": 7,
   "metadata": {
    "id": "6Z1l9bk3NFAk"
   },
   "outputs": [],
   "source": [
    "camera = Camera( eyeX=4, eyeY=4, eyeZ=4,\n",
    "          centerX=0, centerY=0, centerZ=0,\n",
    "          upX=0, upY=1, upZ=0,\n",
    "          screen_W=1280, screen_H=720,\n",
    "          near_clipping_plane=0.1, far_clipping_plane=1000,\n",
    "          fov=45 )"
   ]
  },
  {
   "cell_type": "markdown",
   "metadata": {
    "id": "6NcmHzRjL9eV"
   },
   "source": [
    "# Vertex Shading\n",
    "\n",
    "Project vertexes onto clip space by performong the MVP transformation.  \n",
    "\n",
    "**References**  \n",
    "- [OpenGL中投影矩阵(Projection Matrix)详解 - CSDN](https://blog.csdn.net/qq_39300235/article/details/90670282)\n",
    "- [OpenGL矩阵变换的数学推导 - 騰訊雲](https://cloud.tencent.com/developer/article/1389550)\n",
    "- [Computing FOVX (openGL) - stackoverflow](https://stackoverflow.com/questions/5504635/computing-fovx-opengl)"
   ]
  },
  {
   "cell_type": "markdown",
   "metadata": {
    "id": "djvfGxWXMCXk"
   },
   "source": [
    "## Model Matrix\n",
    "\n",
    "_**SKIP FIRST**_  \n",
    "We directly put the mesh in the center.\n",
    "\n",
    "Local space -> Model space"
   ]
  },
  {
   "cell_type": "code",
   "execution_count": 8,
   "metadata": {
    "id": "XVaN3MXuRVpo"
   },
   "outputs": [],
   "source": [
    "def calc_Model_matrix( camera: Camera, mesh: Mesh):\n",
    "  Model = np.eye(4)\n",
    "  return Model"
   ]
  },
  {
   "cell_type": "code",
   "execution_count": 9,
   "metadata": {
    "colab": {
     "base_uri": "https://localhost:8080/"
    },
    "id": "640J2a02o8oV",
    "outputId": "d1bba9ce-c4c2-4681-b147-68c6f2559d8e"
   },
   "outputs": [
    {
     "data": {
      "text/plain": [
       "array([[1., 0., 0., 0.],\n",
       "       [0., 1., 0., 0.],\n",
       "       [0., 0., 1., 0.],\n",
       "       [0., 0., 0., 1.]])"
      ]
     },
     "execution_count": 9,
     "metadata": {},
     "output_type": "execute_result"
    }
   ],
   "source": [
    "calc_Model_matrix(camera, mesh)"
   ]
  },
  {
   "cell_type": "markdown",
   "metadata": {
    "id": "WGyUiwO2MHGz"
   },
   "source": [
    "## View Matrix\n",
    "\n",
    "Model space -> View space\n",
    "\n",
    "The coordinates of the camera is as follows:\n",
    "- `z axis`: The camera facing direction. ( eye - center )\n",
    "- `x axis`: The right direction of the camera. ( cross(z, u) )\n",
    "- `y axis`: The up direction of the camera. ( cross(z, x) )"
   ]
  },
  {
   "cell_type": "code",
   "execution_count": null,
   "metadata": {
    "id": "zs93S-KKV2cu"
   },
   "outputs": [],
   "source": [
    "def calc_View_matrix( camera: Camera):\n",
    "    # Calculate the Z axis\n",
    "    Z = camera.eye - camera.centerZ\n",
    "    Z = Z / np.linalg.norm(Z)\n",
    "\n",
    "    # Calculate the X axis\n",
    "    X = np.cross(camera.up, Z)\n",
    "    X = X / np.linalg.norm(X)\n",
    "\n",
    "    # Calculate the Y axis\n",
    "    Y = np.cross(Z, X)\n",
    "    Y = Y / np.linalg.norm(Y)\n",
    "\n",
    "    View = [ [ X[0], Y[0], Z[0], -np.dot(X, camera.eye)],\n",
    "             [ X[1], Y[1], Z[1], -np.dot(Y, camera.eye)],\n",
    "             [ X[2], Y[2], Z[2], -np.dot(Z, camera.eye)],\n",
    "             [ 0.00, 0.00, 0.00,          1.00         ] ]\n",
    "    View = np.array(View)\n",
    "    return View"
   ]
  },
  {
   "cell_type": "code",
   "execution_count": 12,
   "metadata": {
    "colab": {
     "base_uri": "https://localhost:8080/"
    },
    "id": "w5zm5OSaWWe_",
    "outputId": "5a76db17-52e9-47a7-9cac-717cbb229f43"
   },
   "outputs": [
    {
     "data": {
      "text/plain": [
       "array([[ 0.70710678, -0.40824829,  0.57735027, -0.        ],\n",
       "       [ 0.        ,  0.81649658,  0.57735027, -0.        ],\n",
       "       [-0.70710678, -0.40824829,  0.57735027, -6.92820323],\n",
       "       [ 0.        ,  0.        ,  0.        ,  1.        ]])"
      ]
     },
     "execution_count": 12,
     "metadata": {},
     "output_type": "execute_result"
    }
   ],
   "source": [
    "calc_View_matrix(camera)"
   ]
  },
  {
   "cell_type": "markdown",
   "metadata": {
    "id": "j8UqUvibMJdm"
   },
   "source": [
    "## Projection Matrix\n",
    "\n",
    "View Space -> Clip Space\n",
    "\n",
    "Perspective projection.\n",
    "1. We need to translate FOVy from degree to radius.\n",
    "2. Calculate fy and fx.\n",
    "3. Derive the projection matrix."
   ]
  },
  {
   "cell_type": "code",
   "execution_count": 13,
   "metadata": {
    "id": "laUNdGxQZYT5"
   },
   "outputs": [],
   "source": [
    "def calc_Projection_matrix( camera: Camera):\n",
    "\n",
    "  fy = 1.0 / np.tan( np.radians( camera.fov ) / 2 )\n",
    "  fx = fy / camera.aspect_ratio\n",
    "\n",
    "  far = camera.far_clipping_plane\n",
    "  near = camera.near_clipping_plane\n",
    "  Projection = [ [ fx,  0,       0       ,       0        ],\n",
    "          [ 0,  fy,       0       ,       0        ],\n",
    "          [ 0,  0, - (far+near) / (far-near), (-2*far*near) / (far-near) ],\n",
    "          [ 0,  0,       -1       ,       0        ] ]\n",
    "\n",
    "  Projection = np.array(Projection)\n",
    "  return Projection"
   ]
  },
  {
   "cell_type": "code",
   "execution_count": 14,
   "metadata": {
    "colab": {
     "base_uri": "https://localhost:8080/"
    },
    "id": "A-Fjb93up9mB",
    "outputId": "6d57a461-ef22-4519-d0b9-525e2a8167fa"
   },
   "outputs": [
    {
     "data": {
      "text/plain": [
       "array([[ 1.35799513,  0.        ,  0.        ,  0.        ],\n",
       "       [ 0.        ,  2.41421356,  0.        ,  0.        ],\n",
       "       [ 0.        ,  0.        , -1.00020002, -0.20002   ],\n",
       "       [ 0.        ,  0.        , -1.        ,  0.        ]])"
      ]
     },
     "execution_count": 14,
     "metadata": {},
     "output_type": "execute_result"
    }
   ],
   "source": [
    "calc_Projection_matrix(camera)"
   ]
  },
  {
   "cell_type": "markdown",
   "metadata": {
    "id": "JKHuMHjHhd3a"
   },
   "source": [
    "## Perform MVP Transformation\n",
    "\n",
    "1. Expand the vertices into homogeneous matrix\n",
    "2. Then multiply the matrixes"
   ]
  },
  {
   "cell_type": "code",
   "execution_count": null,
   "metadata": {
    "id": "aK47P5H7oOFo"
   },
   "outputs": [],
   "source": [
    "def perform_MVP_transformation( camera: Camera, mesh: Mesh):\n",
    "  M = calc_Model_matrix(camera, mesh)\n",
    "  V = calc_View_matrix(camera)\n",
    "  P = calc_Projection_matrix(camera)\n",
    "  MVP = P @ V @ M\n",
    "  vertices_homogeneous = np.hstack((mesh.vertices, np.ones((mesh.vertices.shape[0], 1))))\n",
    "  mesh.clip_space_vertices = vertices_homogeneous @ MVP.T\n",
    "  return mesh"
   ]
  },
  {
   "cell_type": "code",
   "execution_count": null,
   "metadata": {
    "id": "kfKkU3iNzM6I"
   },
   "outputs": [],
   "source": [
    "mesh = perform_MVP_transformation(camera, mesh)"
   ]
  },
  {
   "cell_type": "markdown",
   "metadata": {
    "id": "RNR_BIjbwG_c"
   },
   "source": [
    "## NDC Transformation\n",
    "\n",
    "Normalized Device Coordinate Transformation.  \n",
    "\n",
    "Original vertices: [ Xc, Yc, Zc, Wc ]  \n",
    "NDC vertices: [ Xc/Wc, Yc/Wc, Zc/Wc ]"
   ]
  },
  {
   "cell_type": "code",
   "execution_count": null,
   "metadata": {
    "id": "_4UJ9l8BwxLY"
   },
   "outputs": [],
   "source": [
    "def NDC_transformation(mesh):\n",
    "  ndc_space_vertices = []\n",
    "\n",
    "  for vertex in mesh.clip_space_vertices:\n",
    "      x_c, y_c, z_c, w_c = vertex\n",
    "\n",
    "      x_ndc = x_c / w_c\n",
    "      y_ndc = y_c / w_c\n",
    "      z_ndc = z_c / w_c\n",
    "\n",
    "      ndc_space_vertices.append([x_ndc, y_ndc, z_ndc])\n",
    "\n",
    "  mesh.NDC_vertices = np.array(ndc_space_vertices)\n",
    "  return mesh"
   ]
  },
  {
   "cell_type": "code",
   "execution_count": null,
   "metadata": {
    "id": "nQUggkoN3aII"
   },
   "outputs": [],
   "source": [
    "mesh = NDC_transformation(mesh)"
   ]
  },
  {
   "cell_type": "markdown",
   "metadata": {
    "id": "_8rfUwOlboXh"
   },
   "source": [
    "## NDC to Screen\n",
    "\n",
    "**Note that the Y coordinate should be flipped**\n",
    "\n",
    "- Upper left corner: (0,0)  \n",
    "- Lower right corener: (width, height)  "
   ]
  },
  {
   "cell_type": "code",
   "execution_count": null,
   "metadata": {
    "id": "C9sUdpVrbuD3"
   },
   "outputs": [],
   "source": [
    "def NDC_to_screen(camera: Camera, mesh: Mesh):\n",
    "  ndc_x = mesh.NDC_vertices[:, 0]\n",
    "  ndc_y = mesh.NDC_vertices[:, 1]\n",
    "\n",
    "  screen_x = (ndc_x + 1) / 2 * camera.screen_W\n",
    "  screen_y = (1 - (ndc_y + 1) / 2) * camera.screen_H\n",
    "\n",
    "  mesh.screen_space_vertices = np.column_stack((screen_x, screen_y))\n",
    "  return mesh"
   ]
  },
  {
   "cell_type": "code",
   "execution_count": null,
   "metadata": {
    "id": "PxbcufJX3ls4"
   },
   "outputs": [],
   "source": [
    "mesh = NDC_to_screen(camera, mesh)"
   ]
  },
  {
   "cell_type": "markdown",
   "metadata": {
    "id": "4Tdr132J5U_I"
   },
   "source": [
    "## Test the function\n",
    "\n",
    "Output the function into GIF and see if it works well.\n",
    "\n",
    "- `plot_screen_coords(screen_coords, width, height):`\n"
   ]
  },
  {
   "cell_type": "markdown",
   "metadata": {
    "id": "ScLiAcTl7nbQ"
   },
   "source": [
    "\n",
    "## Picture"
   ]
  },
  {
   "cell_type": "code",
   "execution_count": null,
   "metadata": {
    "id": "skmd24wu9BFe"
   },
   "outputs": [],
   "source": [
    "import matplotlib.pyplot as plt\n",
    "\n",
    "def plot_screen_coords(screen_coords, width, height):\n",
    "    \"\"\"\n",
    "    Plots screen coordinates on a screen-sized canvas and returns the figure.\n",
    "\n",
    "    Parameters:\n",
    "    screen_coords (numpy array): Array of screen coordinates, shape (N, 2).\n",
    "    width (int): Screen width in pixels.\n",
    "    height (int): Screen height in pixels.\n",
    "\n",
    "    Returns:\n",
    "    matplotlib.figure.Figure: The figure object for further processing.\n",
    "    \"\"\"\n",
    "    # Create a figure with a fixed aspect ratio to match screen dimensions\n",
    "    fig, ax = plt.subplots(figsize=(width / 100, height / 100))  # Scaling by 100 for proportionality\n",
    "    ax.scatter(screen_coords[:, 0], screen_coords[:, 1], color='red', label='Screen Coordinates')\n",
    "\n",
    "    # Set screen limits\n",
    "    ax.set_xlim(0, width)\n",
    "    ax.set_ylim(height, 0)  # Invert Y-axis since screen Y-axis goes downward\n",
    "\n",
    "    # Titles and labels\n",
    "    ax.set_title(\"Screen Space Coordinates\")\n",
    "    ax.set_xlabel(\"X (pixels)\")\n",
    "    ax.set_ylabel(\"Y (pixels)\")\n",
    "\n",
    "    # Add grid and legend\n",
    "    ax.grid(True, linestyle='--', alpha=0.5)\n",
    "    ax.legend()\n",
    "\n",
    "    return fig  # Return the figure object"
   ]
  },
  {
   "cell_type": "code",
   "execution_count": null,
   "metadata": {
    "colab": {
     "base_uri": "https://localhost:8080/",
     "height": 674
    },
    "id": "1k75Ta7desYs",
    "outputId": "05288704-3454-4dd8-bda9-2596385eded5"
   },
   "outputs": [
    {
     "name": "stdout",
     "output_type": "stream",
     "text": [
      "Camera position: (3, 3, 3)\n"
     ]
    },
    {
     "data": {
      "image/png": "[encoded data removed]",
      "text/plain": [
       "<Figure size 1280x720 with 1 Axes>"
      ]
     },
     "metadata": {},
     "output_type": "display_data"
    }
   ],
   "source": [
    "box = Mesh()\n",
    "# box.load_obj('/content/drive/MyDrive/ICLAB_mesh/box.obj')\n",
    "box.load_ply( '/content/drive/MyDrive/ICLAB_mesh/colored_box.ply' )\n",
    "teapot = Mesh()\n",
    "teapot.load_obj('/content/drive/MyDrive/ICLAB_mesh/teapot.obj')\n",
    "camera = Camera(\n",
    "    eyeX=0, eyeY=2, eyeZ=0,\n",
    "    centerX=0, centerY=0, centerZ=0,\n",
    "    upX=0, upY=1, upZ=0,\n",
    "    screen_W=1280, screen_H=720,\n",
    "    near_clipping_plane=0.1, far_clipping_plane=1000,\n",
    "    fov=45\n",
    ")\n",
    "\n",
    "for i in range(1):\n",
    "  camera.set_eye(3, 3, 3);\n",
    "  print(f\"Camera position: ({camera.eyeX}, {camera.eyeY}, {camera.eyeZ})\")\n",
    "  perform_MVP_transformation(camera, box)\n",
    "  NDC_transformation(box)\n",
    "  NDC_to_screen(camera, box)\n",
    "  fig = plot_screen_coords(box.screen_space_vertices, camera.screen_W, camera.screen_H)"
   ]
  },
  {
   "cell_type": "code",
   "execution_count": null,
   "metadata": {
    "colab": {
     "base_uri": "https://localhost:8080/"
    },
    "id": "xP4j9ct8MGGe",
    "outputId": "b62bab1f-afb8-490b-b8f6-ec85af057ecb"
   },
   "outputs": [
    {
     "data": {
      "text/plain": [
       "array([[640.        , 360.        ],\n",
       "       [744.10493932, 360.        ],\n",
       "       [681.15387013, 247.56553587],\n",
       "       [576.68984435, 233.3796887 ],\n",
       "       [748.63961031, 251.36038969],\n",
       "       [849.60615755, 265.78418216],\n",
       "       [772.80553635, 148.7369004 ],\n",
       "       [669.23570913, 119.0205544 ]])"
      ]
     },
     "execution_count": 27,
     "metadata": {},
     "output_type": "execute_result"
    }
   ],
   "source": [
    "box.screen_space_vertices"
   ]
  },
  {
   "cell_type": "code",
   "execution_count": null,
   "metadata": {
    "colab": {
     "base_uri": "https://localhost:8080/"
    },
    "id": "qQN5SXGmMK5W",
    "outputId": "3b9ece24-c3fd-4361-d871-7af96e69f8db"
   },
   "outputs": [
    {
     "data": {
      "text/plain": [
       "array([[0., 0., 0.],\n",
       "       [1., 0., 0.],\n",
       "       [1., 1., 0.],\n",
       "       [0., 1., 0.],\n",
       "       [0., 0., 1.],\n",
       "       [1., 0., 1.],\n",
       "       [1., 1., 1.],\n",
       "       [0., 1., 1.]])"
      ]
     },
     "execution_count": 28,
     "metadata": {},
     "output_type": "execute_result"
    }
   ],
   "source": [
    "box.vertices"
   ]
  },
  {
   "cell_type": "markdown",
   "metadata": {
    "id": "D6tu96B9-HTK"
   },
   "source": [
    "## Annimation"
   ]
  },
  {
   "cell_type": "code",
   "execution_count": null,
   "metadata": {
    "colab": {
     "base_uri": "https://localhost:8080/",
     "height": 446
    },
    "id": "yxX9l5Fn5uqH",
    "outputId": "889e0180-9080-4673-eba3-cd890f11fbce"
   },
   "outputs": [
    {
     "name": "stderr",
     "output_type": "stream",
     "text": [
      "Rendering frames:   0%|          | 0/360 [00:00<?, ?it/s, Camera position=(5.00, 5.00, 0.00)]<ipython-input-29-ebc55f725455>:41: MatplotlibDeprecationWarning: The tostring_rgb function was deprecated in Matplotlib 3.8 and will be removed two minor releases later. Use buffer_rgba instead.\n",
      "  frame = np.frombuffer(fig.canvas.tostring_rgb(), dtype='uint8')\n",
      "Rendering frames:  14%|█▍        | 50/360 [00:22<02:20,  2.21it/s, Camera position=(3.36, 5.00, 3.70)]\n"
     ]
    },
    {
     "ename": "KeyboardInterrupt",
     "evalue": "",
     "output_type": "error",
     "traceback": [
      "\u001b[0;31m---------------------------------------------------------------------------\u001b[0m",
      "\u001b[0;31mKeyboardInterrupt\u001b[0m                         Traceback (most recent call last)",
      "\u001b[0;32m<ipython-input-29-ebc55f725455>\u001b[0m in \u001b[0;36m<cell line: 14>\u001b[0;34m()\u001b[0m\n\u001b[1;32m     35\u001b[0m         \u001b[0mmesh\u001b[0m \u001b[0;34m=\u001b[0m \u001b[0mNDC_to_screen\u001b[0m\u001b[0;34m(\u001b[0m\u001b[0mcamera\u001b[0m\u001b[0;34m,\u001b[0m \u001b[0mmesh\u001b[0m\u001b[0;34m)\u001b[0m\u001b[0;34m\u001b[0m\u001b[0;34m\u001b[0m\u001b[0m\n\u001b[1;32m     36\u001b[0m \u001b[0;34m\u001b[0m\u001b[0m\n\u001b[0;32m---> 37\u001b[0;31m         \u001b[0mfig\u001b[0m \u001b[0;34m=\u001b[0m \u001b[0mplot_screen_coords\u001b[0m\u001b[0;34m(\u001b[0m\u001b[0mmesh\u001b[0m\u001b[0;34m.\u001b[0m\u001b[0mscreen_space_vertices\u001b[0m\u001b[0;34m,\u001b[0m \u001b[0mcamera\u001b[0m\u001b[0;34m.\u001b[0m\u001b[0mscreen_W\u001b[0m\u001b[0;34m,\u001b[0m \u001b[0mcamera\u001b[0m\u001b[0;34m.\u001b[0m\u001b[0mscreen_H\u001b[0m\u001b[0;34m)\u001b[0m\u001b[0;34m\u001b[0m\u001b[0;34m\u001b[0m\u001b[0m\n\u001b[0m\u001b[1;32m     38\u001b[0m \u001b[0;34m\u001b[0m\u001b[0m\n\u001b[1;32m     39\u001b[0m         \u001b[0;31m# Save the figure as an image in memory\u001b[0m\u001b[0;34m\u001b[0m\u001b[0;34m\u001b[0m\u001b[0m\n",
      "\u001b[0;32m<ipython-input-25-5c249e439c0d>\u001b[0m in \u001b[0;36mplot_screen_coords\u001b[0;34m(screen_coords, width, height)\u001b[0m\n\u001b[1;32m     14\u001b[0m     \"\"\"\n\u001b[1;32m     15\u001b[0m     \u001b[0;31m# Create a figure with a fixed aspect ratio to match screen dimensions\u001b[0m\u001b[0;34m\u001b[0m\u001b[0;34m\u001b[0m\u001b[0m\n\u001b[0;32m---> 16\u001b[0;31m     \u001b[0mfig\u001b[0m\u001b[0;34m,\u001b[0m \u001b[0max\u001b[0m \u001b[0;34m=\u001b[0m \u001b[0mplt\u001b[0m\u001b[0;34m.\u001b[0m\u001b[0msubplots\u001b[0m\u001b[0;34m(\u001b[0m\u001b[0mfigsize\u001b[0m\u001b[0;34m=\u001b[0m\u001b[0;34m(\u001b[0m\u001b[0mwidth\u001b[0m \u001b[0;34m/\u001b[0m \u001b[0;36m100\u001b[0m\u001b[0;34m,\u001b[0m \u001b[0mheight\u001b[0m \u001b[0;34m/\u001b[0m \u001b[0;36m100\u001b[0m\u001b[0;34m)\u001b[0m\u001b[0;34m)\u001b[0m  \u001b[0;31m# Scaling by 100 for proportionality\u001b[0m\u001b[0;34m\u001b[0m\u001b[0;34m\u001b[0m\u001b[0m\n\u001b[0m\u001b[1;32m     17\u001b[0m     \u001b[0max\u001b[0m\u001b[0;34m.\u001b[0m\u001b[0mscatter\u001b[0m\u001b[0;34m(\u001b[0m\u001b[0mscreen_coords\u001b[0m\u001b[0;34m[\u001b[0m\u001b[0;34m:\u001b[0m\u001b[0;34m,\u001b[0m \u001b[0;36m0\u001b[0m\u001b[0;34m]\u001b[0m\u001b[0;34m,\u001b[0m \u001b[0mscreen_coords\u001b[0m\u001b[0;34m[\u001b[0m\u001b[0;34m:\u001b[0m\u001b[0;34m,\u001b[0m \u001b[0;36m1\u001b[0m\u001b[0;34m]\u001b[0m\u001b[0;34m,\u001b[0m \u001b[0mcolor\u001b[0m\u001b[0;34m=\u001b[0m\u001b[0;34m'red'\u001b[0m\u001b[0;34m,\u001b[0m \u001b[0mlabel\u001b[0m\u001b[0;34m=\u001b[0m\u001b[0;34m'Screen Coordinates'\u001b[0m\u001b[0;34m)\u001b[0m\u001b[0;34m\u001b[0m\u001b[0;34m\u001b[0m\u001b[0m\n\u001b[1;32m     18\u001b[0m \u001b[0;34m\u001b[0m\u001b[0m\n",
      "\u001b[0;32m/usr/local/lib/python3.10/dist-packages/matplotlib/pyplot.py\u001b[0m in \u001b[0;36msubplots\u001b[0;34m(nrows, ncols, sharex, sharey, squeeze, width_ratios, height_ratios, subplot_kw, gridspec_kw, **fig_kw)\u001b[0m\n\u001b[1;32m   1597\u001b[0m     \"\"\"\n\u001b[1;32m   1598\u001b[0m     \u001b[0mfig\u001b[0m \u001b[0;34m=\u001b[0m \u001b[0mfigure\u001b[0m\u001b[0;34m(\u001b[0m\u001b[0;34m**\u001b[0m\u001b[0mfig_kw\u001b[0m\u001b[0;34m)\u001b[0m\u001b[0;34m\u001b[0m\u001b[0;34m\u001b[0m\u001b[0m\n\u001b[0;32m-> 1599\u001b[0;31m     axs = fig.subplots(nrows=nrows, ncols=ncols, sharex=sharex, sharey=sharey,\n\u001b[0m\u001b[1;32m   1600\u001b[0m                        \u001b[0msqueeze\u001b[0m\u001b[0;34m=\u001b[0m\u001b[0msqueeze\u001b[0m\u001b[0;34m,\u001b[0m \u001b[0msubplot_kw\u001b[0m\u001b[0;34m=\u001b[0m\u001b[0msubplot_kw\u001b[0m\u001b[0;34m,\u001b[0m\u001b[0;34m\u001b[0m\u001b[0;34m\u001b[0m\u001b[0m\n\u001b[1;32m   1601\u001b[0m                        \u001b[0mgridspec_kw\u001b[0m\u001b[0;34m=\u001b[0m\u001b[0mgridspec_kw\u001b[0m\u001b[0;34m,\u001b[0m \u001b[0mheight_ratios\u001b[0m\u001b[0;34m=\u001b[0m\u001b[0mheight_ratios\u001b[0m\u001b[0;34m,\u001b[0m\u001b[0;34m\u001b[0m\u001b[0;34m\u001b[0m\u001b[0m\n",
      "\u001b[0;32m/usr/local/lib/python3.10/dist-packages/matplotlib/figure.py\u001b[0m in \u001b[0;36msubplots\u001b[0;34m(self, nrows, ncols, sharex, sharey, squeeze, width_ratios, height_ratios, subplot_kw, gridspec_kw)\u001b[0m\n\u001b[1;32m    929\u001b[0m \u001b[0;34m\u001b[0m\u001b[0m\n\u001b[1;32m    930\u001b[0m         \u001b[0mgs\u001b[0m \u001b[0;34m=\u001b[0m \u001b[0mself\u001b[0m\u001b[0;34m.\u001b[0m\u001b[0madd_gridspec\u001b[0m\u001b[0;34m(\u001b[0m\u001b[0mnrows\u001b[0m\u001b[0;34m,\u001b[0m \u001b[0mncols\u001b[0m\u001b[0;34m,\u001b[0m \u001b[0mfigure\u001b[0m\u001b[0;34m=\u001b[0m\u001b[0mself\u001b[0m\u001b[0;34m,\u001b[0m \u001b[0;34m**\u001b[0m\u001b[0mgridspec_kw\u001b[0m\u001b[0;34m)\u001b[0m\u001b[0;34m\u001b[0m\u001b[0;34m\u001b[0m\u001b[0m\n\u001b[0;32m--> 931\u001b[0;31m         axs = gs.subplots(sharex=sharex, sharey=sharey, squeeze=squeeze,\n\u001b[0m\u001b[1;32m    932\u001b[0m                           subplot_kw=subplot_kw)\n\u001b[1;32m    933\u001b[0m         \u001b[0;32mreturn\u001b[0m \u001b[0maxs\u001b[0m\u001b[0;34m\u001b[0m\u001b[0;34m\u001b[0m\u001b[0m\n",
      "\u001b[0;32m/usr/local/lib/python3.10/dist-packages/matplotlib/gridspec.py\u001b[0m in \u001b[0;36msubplots\u001b[0;34m(self, sharex, sharey, squeeze, subplot_kw)\u001b[0m\n\u001b[1;32m    296\u001b[0m                 \u001b[0msubplot_kw\u001b[0m\u001b[0;34m[\u001b[0m\u001b[0;34m\"sharex\"\u001b[0m\u001b[0;34m]\u001b[0m \u001b[0;34m=\u001b[0m \u001b[0mshared_with\u001b[0m\u001b[0;34m[\u001b[0m\u001b[0msharex\u001b[0m\u001b[0;34m]\u001b[0m\u001b[0;34m\u001b[0m\u001b[0;34m\u001b[0m\u001b[0m\n\u001b[1;32m    297\u001b[0m                 \u001b[0msubplot_kw\u001b[0m\u001b[0;34m[\u001b[0m\u001b[0;34m\"sharey\"\u001b[0m\u001b[0;34m]\u001b[0m \u001b[0;34m=\u001b[0m \u001b[0mshared_with\u001b[0m\u001b[0;34m[\u001b[0m\u001b[0msharey\u001b[0m\u001b[0;34m]\u001b[0m\u001b[0;34m\u001b[0m\u001b[0;34m\u001b[0m\u001b[0m\n\u001b[0;32m--> 298\u001b[0;31m                 axarr[row, col] = figure.add_subplot(\n\u001b[0m\u001b[1;32m    299\u001b[0m                     self[row, col], **subplot_kw)\n\u001b[1;32m    300\u001b[0m \u001b[0;34m\u001b[0m\u001b[0m\n",
      "\u001b[0;32m/usr/local/lib/python3.10/dist-packages/matplotlib/figure.py\u001b[0m in \u001b[0;36madd_subplot\u001b[0;34m(self, *args, **kwargs)\u001b[0m\n\u001b[1;32m    780\u001b[0m                 \u001b[0margs\u001b[0m \u001b[0;34m=\u001b[0m \u001b[0mtuple\u001b[0m\u001b[0;34m(\u001b[0m\u001b[0mmap\u001b[0m\u001b[0;34m(\u001b[0m\u001b[0mint\u001b[0m\u001b[0;34m,\u001b[0m \u001b[0mstr\u001b[0m\u001b[0;34m(\u001b[0m\u001b[0margs\u001b[0m\u001b[0;34m[\u001b[0m\u001b[0;36m0\u001b[0m\u001b[0;34m]\u001b[0m\u001b[0;34m)\u001b[0m\u001b[0;34m)\u001b[0m\u001b[0;34m)\u001b[0m\u001b[0;34m\u001b[0m\u001b[0;34m\u001b[0m\u001b[0m\n\u001b[1;32m    781\u001b[0m             \u001b[0mprojection_class\u001b[0m\u001b[0;34m,\u001b[0m \u001b[0mpkw\u001b[0m \u001b[0;34m=\u001b[0m \u001b[0mself\u001b[0m\u001b[0;34m.\u001b[0m\u001b[0m_process_projection_requirements\u001b[0m\u001b[0;34m(\u001b[0m\u001b[0;34m**\u001b[0m\u001b[0mkwargs\u001b[0m\u001b[0;34m)\u001b[0m\u001b[0;34m\u001b[0m\u001b[0;34m\u001b[0m\u001b[0m\n\u001b[0;32m--> 782\u001b[0;31m             \u001b[0max\u001b[0m \u001b[0;34m=\u001b[0m \u001b[0mprojection_class\u001b[0m\u001b[0;34m(\u001b[0m\u001b[0mself\u001b[0m\u001b[0;34m,\u001b[0m \u001b[0;34m*\u001b[0m\u001b[0margs\u001b[0m\u001b[0;34m,\u001b[0m \u001b[0;34m**\u001b[0m\u001b[0mpkw\u001b[0m\u001b[0;34m)\u001b[0m\u001b[0;34m\u001b[0m\u001b[0;34m\u001b[0m\u001b[0m\n\u001b[0m\u001b[1;32m    783\u001b[0m             \u001b[0mkey\u001b[0m \u001b[0;34m=\u001b[0m \u001b[0;34m(\u001b[0m\u001b[0mprojection_class\u001b[0m\u001b[0;34m,\u001b[0m \u001b[0mpkw\u001b[0m\u001b[0;34m)\u001b[0m\u001b[0;34m\u001b[0m\u001b[0;34m\u001b[0m\u001b[0m\n\u001b[1;32m    784\u001b[0m         \u001b[0;32mreturn\u001b[0m \u001b[0mself\u001b[0m\u001b[0;34m.\u001b[0m\u001b[0m_add_axes_internal\u001b[0m\u001b[0;34m(\u001b[0m\u001b[0max\u001b[0m\u001b[0;34m,\u001b[0m \u001b[0mkey\u001b[0m\u001b[0;34m)\u001b[0m\u001b[0;34m\u001b[0m\u001b[0;34m\u001b[0m\u001b[0m\n",
      "\u001b[0;32m/usr/local/lib/python3.10/dist-packages/matplotlib/axes/_base.py\u001b[0m in \u001b[0;36m__init__\u001b[0;34m(self, fig, facecolor, frameon, sharex, sharey, label, xscale, yscale, box_aspect, *args, **kwargs)\u001b[0m\n\u001b[1;32m    665\u001b[0m         \u001b[0;31m# (see colorbar.py):\u001b[0m\u001b[0;34m\u001b[0m\u001b[0;34m\u001b[0m\u001b[0m\n\u001b[1;32m    666\u001b[0m         \u001b[0mself\u001b[0m\u001b[0;34m.\u001b[0m\u001b[0m_colorbars\u001b[0m \u001b[0;34m=\u001b[0m \u001b[0;34m[\u001b[0m\u001b[0;34m]\u001b[0m\u001b[0;34m\u001b[0m\u001b[0;34m\u001b[0m\u001b[0m\n\u001b[0;32m--> 667\u001b[0;31m         \u001b[0mself\u001b[0m\u001b[0;34m.\u001b[0m\u001b[0mspines\u001b[0m \u001b[0;34m=\u001b[0m \u001b[0mmspines\u001b[0m\u001b[0;34m.\u001b[0m\u001b[0mSpines\u001b[0m\u001b[0;34m.\u001b[0m\u001b[0mfrom_dict\u001b[0m\u001b[0;34m(\u001b[0m\u001b[0mself\u001b[0m\u001b[0;34m.\u001b[0m\u001b[0m_gen_axes_spines\u001b[0m\u001b[0;34m(\u001b[0m\u001b[0;34m)\u001b[0m\u001b[0;34m)\u001b[0m\u001b[0;34m\u001b[0m\u001b[0;34m\u001b[0m\u001b[0m\n\u001b[0m\u001b[1;32m    668\u001b[0m \u001b[0;34m\u001b[0m\u001b[0m\n\u001b[1;32m    669\u001b[0m         \u001b[0;31m# this call may differ for non-sep axes, e.g., polar\u001b[0m\u001b[0;34m\u001b[0m\u001b[0;34m\u001b[0m\u001b[0m\n",
      "\u001b[0;32m/usr/local/lib/python3.10/dist-packages/matplotlib/axes/_base.py\u001b[0m in \u001b[0;36m_gen_axes_spines\u001b[0;34m(self, locations, offset, units)\u001b[0m\n\u001b[1;32m   1211\u001b[0m         \u001b[0mIntended\u001b[0m \u001b[0mto\u001b[0m \u001b[0mbe\u001b[0m \u001b[0moverridden\u001b[0m \u001b[0mby\u001b[0m \u001b[0mnew\u001b[0m \u001b[0mprojection\u001b[0m \u001b[0mtypes\u001b[0m\u001b[0;34m.\u001b[0m\u001b[0;34m\u001b[0m\u001b[0;34m\u001b[0m\u001b[0m\n\u001b[1;32m   1212\u001b[0m         \"\"\"\n\u001b[0;32m-> 1213\u001b[0;31m         return {side: mspines.Spine.linear_spine(self, side)\n\u001b[0m\u001b[1;32m   1214\u001b[0m                 for side in ['left', 'right', 'bottom', 'top']}\n\u001b[1;32m   1215\u001b[0m \u001b[0;34m\u001b[0m\u001b[0m\n",
      "\u001b[0;32m/usr/local/lib/python3.10/dist-packages/matplotlib/axes/_base.py\u001b[0m in \u001b[0;36m<dictcomp>\u001b[0;34m(.0)\u001b[0m\n\u001b[1;32m   1211\u001b[0m         \u001b[0mIntended\u001b[0m \u001b[0mto\u001b[0m \u001b[0mbe\u001b[0m \u001b[0moverridden\u001b[0m \u001b[0mby\u001b[0m \u001b[0mnew\u001b[0m \u001b[0mprojection\u001b[0m \u001b[0mtypes\u001b[0m\u001b[0;34m.\u001b[0m\u001b[0;34m\u001b[0m\u001b[0;34m\u001b[0m\u001b[0m\n\u001b[1;32m   1212\u001b[0m         \"\"\"\n\u001b[0;32m-> 1213\u001b[0;31m         return {side: mspines.Spine.linear_spine(self, side)\n\u001b[0m\u001b[1;32m   1214\u001b[0m                 for side in ['left', 'right', 'bottom', 'top']}\n\u001b[1;32m   1215\u001b[0m \u001b[0;34m\u001b[0m\u001b[0m\n",
      "\u001b[0;32m/usr/local/lib/python3.10/dist-packages/matplotlib/spines.py\u001b[0m in \u001b[0;36mlinear_spine\u001b[0;34m(cls, axes, spine_type, **kwargs)\u001b[0m\n\u001b[1;32m    444\u001b[0m         \u001b[0;32melse\u001b[0m\u001b[0;34m:\u001b[0m\u001b[0;34m\u001b[0m\u001b[0;34m\u001b[0m\u001b[0m\n\u001b[1;32m    445\u001b[0m             \u001b[0;32mraise\u001b[0m \u001b[0mValueError\u001b[0m\u001b[0;34m(\u001b[0m\u001b[0;34m'unable to make path for spine \"%s\"'\u001b[0m \u001b[0;34m%\u001b[0m \u001b[0mspine_type\u001b[0m\u001b[0;34m)\u001b[0m\u001b[0;34m\u001b[0m\u001b[0;34m\u001b[0m\u001b[0m\n\u001b[0;32m--> 446\u001b[0;31m         \u001b[0mresult\u001b[0m \u001b[0;34m=\u001b[0m \u001b[0mcls\u001b[0m\u001b[0;34m(\u001b[0m\u001b[0maxes\u001b[0m\u001b[0;34m,\u001b[0m \u001b[0mspine_type\u001b[0m\u001b[0;34m,\u001b[0m \u001b[0mpath\u001b[0m\u001b[0;34m,\u001b[0m \u001b[0;34m**\u001b[0m\u001b[0mkwargs\u001b[0m\u001b[0;34m)\u001b[0m\u001b[0;34m\u001b[0m\u001b[0;34m\u001b[0m\u001b[0m\n\u001b[0m\u001b[1;32m    447\u001b[0m         \u001b[0mresult\u001b[0m\u001b[0;34m.\u001b[0m\u001b[0mset_visible\u001b[0m\u001b[0;34m(\u001b[0m\u001b[0mmpl\u001b[0m\u001b[0;34m.\u001b[0m\u001b[0mrcParams\u001b[0m\u001b[0;34m[\u001b[0m\u001b[0;34mf'axes.spines.{spine_type}'\u001b[0m\u001b[0;34m]\u001b[0m\u001b[0;34m)\u001b[0m\u001b[0;34m\u001b[0m\u001b[0;34m\u001b[0m\u001b[0m\n\u001b[1;32m    448\u001b[0m \u001b[0;34m\u001b[0m\u001b[0m\n",
      "\u001b[0;32m/usr/local/lib/python3.10/dist-packages/matplotlib/spines.py\u001b[0m in \u001b[0;36m__init__\u001b[0;34m(self, axes, spine_type, path, **kwargs)\u001b[0m\n\u001b[1;32m     52\u001b[0m             \u001b[0;34m%\u001b[0m\u001b[0;34m(\u001b[0m\u001b[0mPatch\u001b[0m\u001b[0;34m:\u001b[0m\u001b[0mkwdoc\u001b[0m\u001b[0;34m)\u001b[0m\u001b[0ms\u001b[0m\u001b[0;34m\u001b[0m\u001b[0;34m\u001b[0m\u001b[0m\n\u001b[1;32m     53\u001b[0m         \"\"\"\n\u001b[0;32m---> 54\u001b[0;31m         \u001b[0msuper\u001b[0m\u001b[0;34m(\u001b[0m\u001b[0;34m)\u001b[0m\u001b[0;34m.\u001b[0m\u001b[0m__init__\u001b[0m\u001b[0;34m(\u001b[0m\u001b[0;34m**\u001b[0m\u001b[0mkwargs\u001b[0m\u001b[0;34m)\u001b[0m\u001b[0;34m\u001b[0m\u001b[0;34m\u001b[0m\u001b[0m\n\u001b[0m\u001b[1;32m     55\u001b[0m         \u001b[0mself\u001b[0m\u001b[0;34m.\u001b[0m\u001b[0maxes\u001b[0m \u001b[0;34m=\u001b[0m \u001b[0maxes\u001b[0m\u001b[0;34m\u001b[0m\u001b[0;34m\u001b[0m\u001b[0m\n\u001b[1;32m     56\u001b[0m         \u001b[0mself\u001b[0m\u001b[0;34m.\u001b[0m\u001b[0mset_figure\u001b[0m\u001b[0;34m(\u001b[0m\u001b[0mself\u001b[0m\u001b[0;34m.\u001b[0m\u001b[0maxes\u001b[0m\u001b[0;34m.\u001b[0m\u001b[0mfigure\u001b[0m\u001b[0;34m)\u001b[0m\u001b[0;34m\u001b[0m\u001b[0;34m\u001b[0m\u001b[0m\n",
      "\u001b[0;32m/usr/local/lib/python3.10/dist-packages/matplotlib/patches.py\u001b[0m in \u001b[0;36m__init__\u001b[0;34m(self, edgecolor, facecolor, color, linewidth, linestyle, antialiased, hatch, fill, capstyle, joinstyle, **kwargs)\u001b[0m\n\u001b[1;32m     88\u001b[0m         \u001b[0mself\u001b[0m\u001b[0;34m.\u001b[0m\u001b[0m_dash_pattern\u001b[0m \u001b[0;34m=\u001b[0m \u001b[0;34m(\u001b[0m\u001b[0;36m0\u001b[0m\u001b[0;34m,\u001b[0m \u001b[0;32mNone\u001b[0m\u001b[0;34m)\u001b[0m  \u001b[0;31m# offset, dash (scaled by linewidth)\u001b[0m\u001b[0;34m\u001b[0m\u001b[0;34m\u001b[0m\u001b[0m\n\u001b[1;32m     89\u001b[0m \u001b[0;34m\u001b[0m\u001b[0m\n\u001b[0;32m---> 90\u001b[0;31m         \u001b[0mself\u001b[0m\u001b[0;34m.\u001b[0m\u001b[0mset_linestyle\u001b[0m\u001b[0;34m(\u001b[0m\u001b[0mlinestyle\u001b[0m\u001b[0;34m)\u001b[0m\u001b[0;34m\u001b[0m\u001b[0;34m\u001b[0m\u001b[0m\n\u001b[0m\u001b[1;32m     91\u001b[0m         \u001b[0mself\u001b[0m\u001b[0;34m.\u001b[0m\u001b[0mset_linewidth\u001b[0m\u001b[0;34m(\u001b[0m\u001b[0mlinewidth\u001b[0m\u001b[0;34m)\u001b[0m\u001b[0;34m\u001b[0m\u001b[0;34m\u001b[0m\u001b[0m\n\u001b[1;32m     92\u001b[0m         \u001b[0mself\u001b[0m\u001b[0;34m.\u001b[0m\u001b[0mset_antialiased\u001b[0m\u001b[0;34m(\u001b[0m\u001b[0mantialiased\u001b[0m\u001b[0;34m)\u001b[0m\u001b[0;34m\u001b[0m\u001b[0;34m\u001b[0m\u001b[0m\n",
      "\u001b[0;32m/usr/local/lib/python3.10/dist-packages/matplotlib/patches.py\u001b[0m in \u001b[0;36mset_linestyle\u001b[0;34m(self, ls)\u001b[0m\n\u001b[1;32m    394\u001b[0m         \u001b[0mself\u001b[0m\u001b[0;34m.\u001b[0m\u001b[0mstale\u001b[0m \u001b[0;34m=\u001b[0m \u001b[0;32mTrue\u001b[0m\u001b[0;34m\u001b[0m\u001b[0;34m\u001b[0m\u001b[0m\n\u001b[1;32m    395\u001b[0m \u001b[0;34m\u001b[0m\u001b[0m\n\u001b[0;32m--> 396\u001b[0;31m     \u001b[0;32mdef\u001b[0m \u001b[0mset_linestyle\u001b[0m\u001b[0;34m(\u001b[0m\u001b[0mself\u001b[0m\u001b[0;34m,\u001b[0m \u001b[0mls\u001b[0m\u001b[0;34m)\u001b[0m\u001b[0;34m:\u001b[0m\u001b[0;34m\u001b[0m\u001b[0;34m\u001b[0m\u001b[0m\n\u001b[0m\u001b[1;32m    397\u001b[0m         \"\"\"\n\u001b[1;32m    398\u001b[0m         \u001b[0mSet\u001b[0m \u001b[0mthe\u001b[0m \u001b[0mpatch\u001b[0m \u001b[0mlinestyle\u001b[0m\u001b[0;34m.\u001b[0m\u001b[0;34m\u001b[0m\u001b[0;34m\u001b[0m\u001b[0m\n",
      "\u001b[0;31mKeyboardInterrupt\u001b[0m: "
     ]
    },
    {
     "data": {
      "text/plain": [
       "<Figure size 1280x720 with 0 Axes>"
      ]
     },
     "metadata": {},
     "output_type": "display_data"
    }
   ],
   "source": [
    "import math\n",
    "from tqdm import tqdm\n",
    "import imageio\n",
    "import numpy as np\n",
    "import matplotlib.pyplot as plt\n",
    "\n",
    "# Assuming the required classes and methods (Mesh, Camera, etc.) are defined elsewhere\n",
    "mesh = Mesh()\n",
    "mesh.load_obj('/content/drive/MyDrive/ICLAB_mesh/teapot.obj')\n",
    "\n",
    "frames = []\n",
    "\n",
    "# Initialize tqdm with dynamic postfix updates\n",
    "with tqdm(total=(2 * 3 * 360) // (2 * 3), desc=\"Rendering frames\", postfix={\"Camera position\": \"(0, 0, 0)\"}) as pbar:\n",
    "    for rad in range(0, 2 * 3 * 360, 2 * 3):\n",
    "        distance = 5\n",
    "        rad /= 360\n",
    "        CamX = distance * math.cos(rad)\n",
    "        CamY = distance\n",
    "        CamZ = distance * math.sin(rad)\n",
    "\n",
    "        # Update the progress bar's postfix with the current camera position\n",
    "        pbar.set_postfix({\"Camera position\": f\"({CamX:.2f}, {CamY:.2f}, {CamZ:.2f})\"})\n",
    "\n",
    "        camera = Camera(\n",
    "            eyeX=CamX, eyeY=CamY, eyeZ=CamZ,\n",
    "            centerX=0, centerY=0, centerZ=0,\n",
    "            upX=0, upY=1, upZ=0,\n",
    "            screen_W=1280, screen_H=720,\n",
    "            near_clipping_plane=0.1, far_clipping_plane=1000,\n",
    "            fov=45\n",
    "        )\n",
    "        mesh = perform_MVP_transformation(camera, mesh)\n",
    "        mesh = NDC_transformation(mesh)\n",
    "        mesh = NDC_to_screen(camera, mesh)\n",
    "\n",
    "        fig = plot_screen_coords(mesh.screen_space_vertices, camera.screen_W, camera.screen_H)\n",
    "\n",
    "        # Save the figure as an image in memory\n",
    "        fig.canvas.draw()\n",
    "        frame = np.frombuffer(fig.canvas.tostring_rgb(), dtype='uint8')\n",
    "        frame = frame.reshape(fig.canvas.get_width_height()[::-1] + (3,))\n",
    "        frames.append(frame)\n",
    "\n",
    "        plt.close(fig)  # Close the figure to free memory\n",
    "\n",
    "        # Update the progress bar\n",
    "        pbar.update(1)\n",
    "\n",
    "# Save all frames into a .gif\n",
    "output_path = \"/content/drive/MyDrive/ICLAB_mesh/teapot.gif\"\n",
    "imageio.mimsave(output_path, frames, fps=24)\n",
    "\n",
    "print(f\"GIF saved to {output_path}\")"
   ]
  },
  {
   "cell_type": "markdown",
   "metadata": {
    "id": "Tz2DmZ06TXk9"
   },
   "source": [
    "# Rasterization"
   ]
  },
  {
   "cell_type": "markdown",
   "metadata": {
    "id": "nJbpgTpeAKzd"
   },
   "source": [
    "## Anti-aliasing edges\n"
   ]
  },
  {
   "cell_type": "markdown",
   "metadata": {
    "id": "0vvo3177bZa1"
   },
   "source": [
    "### NOT IMPLEMENTED\n",
    "Solve the problem by _**Wu, Xiao-Lin's algorithm**_.\n",
    "- [YT explanation](https://www.youtube.com/watch?v=YAsKbVYS6jY)\n",
    "- [Example](https://code.gamelet.com/edit/Line_Renderer)"
   ]
  },
  {
   "cell_type": "code",
   "execution_count": null,
   "metadata": {
    "id": "TskEi-AdAucD"
   },
   "outputs": [],
   "source": [
    "# def anti_aliasing_line( screen: np.array, start: int, end: int ):\n",
    "#   start_X = start[0]\n",
    "#   start_Y = start[1]\n",
    "#   end_X = end[0]\n",
    "#   end_Y = end[1]\n",
    "\n",
    "#   steep = ( math.abs(end_Y - start_Y) > math.abs(end_X - start_X) )\n",
    "\n",
    "#   # first transform the lines\n",
    "#   #swap x, y\n",
    "#   if steep:\n",
    "#     start_X, start_Y = start_Y, start_X\n",
    "#     end_X, end_Y = end_Y, end_X\n",
    "#   # swap start and end\n",
    "#   if start[0] > end[0]:\n",
    "#     start_X, end_X = end_X, start_X\n",
    "#     start_Y, end_Y = end_Y, start_Y\n",
    "\n",
    "#   # Calculate dx and dy\n",
    "#   dx = end_X - start_X\n",
    "#   dy = end_Y - start_Y\n",
    "\n",
    "#   if dx == 0:\n",
    "#     gradient = 1\n",
    "#   else:\n",
    "#     gradient = dy/dx\n",
    "\n",
    "#   if (dx == 0):\n",
    "#     gradient = 1\n",
    "#   else:\n",
    "#     gradient = dy/dx\n",
    "\n",
    "#   # draw starting point\n",
    "#   color = (255, 255, 255)\n",
    "\n",
    "#   start_X_int = ( start_X + 0.5 ) // 2\n",
    "#   start_Y = start_Y + gradient * ( start_X_int - start_X )\n",
    "#   start_X_gap = start_X + 0.5 - int(start_X)\n",
    "#   start_Y_int = int(start_Y)\n",
    "\n",
    "#   if steep:\n",
    "#     screen[start_Y_int, int(start_X_int)] = color\n",
    "#   else:\n",
    "#     screen[int(start_X_int), int(start_Y)] = color\n"
   ]
  },
  {
   "cell_type": "markdown",
   "metadata": {
    "id": "PdMSA_9qbcOw"
   },
   "source": [
    "## Determine if the point is in triangle\n",
    "```\n",
    "    ( x1, y1 )\n",
    "       /\\\n",
    "      /  \\\n",
    "     /    \\\n",
    "    -- -- -- --  \n",
    "( x2, y2 )   ( x3, y3 )\n",
    "```\n",
    "\n",
    "Two ways:\n",
    "1. By Area\n",
    "2. By Cross product\n",
    "\n",
    "### Vector Cross Product Method (Half-Plane Technique)\n",
    "\n",
    "**Concept:**  \n",
    "This method uses the sign of the cross product to determine if the point lies on the same side of all the triangle's edges.\n",
    "\n",
    "**Steps:**\n",
    "\n",
    "1. **Define the Triangle and Point:**\n",
    "   - Triangle vertices \\( A(x_A, y_A) \\), \\( B(x_B, y_B) \\), \\( C(x_C, y_C) \\).\n",
    "   - Point \\( P(x, y) \\).\n",
    "\n",
    "2. **Compute Vectors:**\n",
    "   - Compute vectors for the edges \\( AB \\), \\( BC \\), and \\( CA \\).\n",
    "   - Compute vectors from the triangle's vertices to point \\( P \\).\n",
    "\n",
    "3. **Calculate Cross Products:**\n",
    "   \\begin{align*}\n",
    "   \\text{Cross}_1 &= (B_x - A_x)(P_y - A_y) - (B_y - A_y)(P_x - A_x) \\\\\n",
    "   \\text{Cross}_2 &= (C_x - B_x)(P_y - B_y) - (C_y - B_y)(P_x - B_x) \\\\\n",
    "   \\text{Cross}_3 &= (A_x - C_x)(P_y - C_y) - (A_y - C_y)(P_x - C_x)\n",
    "   \\end{align*}\n",
    "\n",
    "4. **Check the Signs:**\n",
    "   - If all cross products have the same sign (all positive or all negative), then \\( P \\) is inside the triangle.\n",
    "   - If the signs differ, \\( P \\) is outside the triangle.\n"
   ]
  },
  {
   "cell_type": "markdown",
   "metadata": {
    "id": "JHdzAXs6hSWw"
   },
   "source": [
    "#### By area"
   ]
  },
  {
   "cell_type": "code",
   "execution_count": null,
   "metadata": {
    "id": "u8EH4l0S2-sR"
   },
   "outputs": [],
   "source": [
    "def PointInTriangle2D(position1, position2, position3,x,y):\n",
    "\n",
    "    x1 = position1[0]\n",
    "    x2 = position2[0]\n",
    "    x3 = position3[0]\n",
    "\n",
    "    y1 = position1[1]\n",
    "    y2 = position2[1]\n",
    "    y3 = position3[1]\n",
    "\n",
    "    A1 = 0.5 * abs((x * (y2-y3)) + (x2 * (y3-y)) + (x3 * (y-y2)))\n",
    "    A2 = 0.5 * abs((x1 * (y-y3)) + (x * (y3-y1)) + (x3 * (y1-y)))\n",
    "    A3 = 0.5 * abs((x1 * (y2-y)) + (x2 * (y-y1)) + (x * (y1-y2)))\n",
    "    Atotal = 0.5 * abs((x1 * (y2-y3)) + (x2 * (y3-y1)) + (x3 * (y1-y2)))\n",
    "\n",
    "    if(abs(Atotal - (A1+A2+A3))<=0.00000001):\n",
    "        return 1\n",
    "    else:\n",
    "        return 0\n"
   ]
  },
  {
   "cell_type": "markdown",
   "metadata": {
    "id": "bBoNL4hshaMY"
   },
   "source": [
    "#### By Cross Product"
   ]
  },
  {
   "cell_type": "code",
   "execution_count": null,
   "metadata": {
    "id": "T2U-tlx2f5NZ"
   },
   "outputs": [],
   "source": [
    "def sign(p1, p2, p3):\n",
    "    return (p1[0] - p3[0])*(p2[1] - p3[1]) - (p2[0] - p3[0])*(p1[1] - p3[1])\n",
    "\n",
    "def is_point_in_triangle_cross_product(A, B, C, P):\n",
    "    d1 = sign(P, A, B)\n",
    "    d2 = sign(P, B, C)\n",
    "    d3 = sign(P, C, A)\n",
    "\n",
    "    has_neg = (d1 < 0) or (d2 < 0) or (d3 < 0)\n",
    "    has_pos = (d1 > 0) or (d2 > 0) or (d3 > 0)\n",
    "\n",
    "    return not (has_neg and has_pos)\n"
   ]
  },
  {
   "cell_type": "markdown",
   "metadata": {
    "id": "gYxQyxQQhOf_"
   },
   "source": [
    "#### Verification"
   ]
  },
  {
   "cell_type": "code",
   "execution_count": null,
   "metadata": {
    "colab": {
     "base_uri": "https://localhost:8080/",
     "height": 406
    },
    "id": "l-GWvcZ8pGqL",
    "outputId": "438c0711-8841-4a82-eaa5-8d47739c58df"
   },
   "outputs": [
    {
     "data": {
      "image/png": "[encoded data removed]",
      "text/plain": [
       "<Figure size 640x480 with 1 Axes>"
      ]
     },
     "metadata": {},
     "output_type": "display_data"
    }
   ],
   "source": [
    "P1 = [0, 0]\n",
    "P2 = [21, 80]\n",
    "P3 = [10,100]\n",
    "\n",
    "screen_buffer = []\n",
    "for h in range(100):\n",
    "  tmp = []\n",
    "  for w in range(100):\n",
    "    if is_point_in_triangle_cross_product( P1, P2, P3, [w, h] ):\n",
    "      tmp.append([255, 0, 0])\n",
    "    else:\n",
    "      tmp.append([0, 0, 0])\n",
    "  screen_buffer.append(tmp)\n",
    "\n",
    "plt.imshow(screen_buffer)\n",
    "plt.axis('off')\n",
    "plt.show()"
   ]
  },
  {
   "cell_type": "code",
   "execution_count": null,
   "metadata": {
    "id": "ImUYgdQLf87a"
   },
   "outputs": [],
   "source": [
    "for i in range(1000):\n",
    "  for j in range(1000):\n",
    "    assert PointInTriangle2D([0,0],[21,80],[10,100],i,j) == is_point_in_triangle_cross_product([0,0],[21,80],[10,100],[i,j])"
   ]
  },
  {
   "cell_type": "markdown",
   "metadata": {
    "id": "HcIQXqjyhjCI"
   },
   "source": [
    "## Calculate Depth and color if it is in the triangle\n",
    "\n",
    "We calculate them through interpolation (Barycentric coordinates). All values are stored in the vertexes.\n",
    "\n",
    "reference: [https://hackmd.io/@leon890820/rkI-2oYXi](https://hackmd.io/@leon890820/rkI-2oYXi)"
   ]
  },
  {
   "cell_type": "markdown",
   "metadata": {
    "id": "Pct5nUIhiUwq"
   },
   "source": [
    "### Barycentric interpolation\n",
    "\n",
    "- input\n",
    "  - position1, value1\n",
    "  - position2, value2\n",
    "  - position3, value3\n",
    "  - x, y\n",
    "- output\n",
    "  - value corresponding to (x, y)"
   ]
  },
  {
   "cell_type": "code",
   "execution_count": null,
   "metadata": {
    "id": "_scYYaEbmvyP"
   },
   "outputs": [],
   "source": [
    "def Barycentric_interpolation( P1, value1, P2, value2, P3, value3, x, y):\n",
    "\n",
    "  x1 = P1[0]\n",
    "  x2 = P2[0]\n",
    "  x3 = P3[0]\n",
    "\n",
    "  y1 = P1[1]\n",
    "  y2 = P2[1]\n",
    "  y3 = P3[1]\n",
    "\n",
    "  A1 = 0.5*abs((x*(y2-y3)) + (x2*(y3-y)) + (x3*(y-y2)))\n",
    "  A2 = 0.5*abs((x1*(y-y3)) + (x*(y3-y1)) + (x3*(y1-y)))\n",
    "  A3 = 0.5*abs((x1*(y2-y)) + (x2*(y-y1)) + (x*(y1-y2)))\n",
    "  Atotal = 0.5*abs((x1*(y2-y3)) + (x2*(y3-y1)) + (x3*(y1-y2)))\n",
    "\n",
    "  L1 = A1 / Atotal\n",
    "  L2 = A2 / Atotal\n",
    "  L3 = A3 / Atotal\n",
    "\n",
    "  return L1*value1 + L2*value2 + L3*value3\n",
    "\n"
   ]
  },
  {
   "cell_type": "code",
   "execution_count": null,
   "metadata": {
    "id": "gxyCqhUI4dLu"
   },
   "outputs": [],
   "source": [
    "def GetDepth(position1,position2,position3,position1_depth,position2_depth,position3_depth,x,y):\n",
    "  x1 = position1[0]\n",
    "  x2 = position2[0]\n",
    "  x3 = position3[0]\n",
    "\n",
    "  y1 = position1[1]\n",
    "  y2 = position2[1]\n",
    "  y3 = position3[1]\n",
    "\n",
    "  A1 = 0.5*abs((x*(y2-y3)) + (x2*(y3-y)) + (x3*(y-y2)))\n",
    "  A2 = 0.5*abs((x1*(y-y3)) + (x*(y3-y1)) + (x3*(y1-y)))\n",
    "  A3 = 0.5*abs((x1*(y2-y)) + (x2*(y-y1)) + (x*(y1-y2)))\n",
    "  Atotal = 0.5*abs((x1*(y2-y3)) + (x2*(y3-y1)) + (x3*(y1-y2)))\n",
    "\n",
    "  L1 = A1 / Atotal\n",
    "  L2 = A2 / Atotal\n",
    "  L3 = A3 / Atotal\n",
    "\n",
    "  return L1*position1_depth + L2*position2_depth + L3*position3_depth\n",
    "\n"
   ]
  },
  {
   "cell_type": "code",
   "execution_count": null,
   "metadata": {
    "id": "tw2hssyQ8Ddf"
   },
   "outputs": [],
   "source": [
    "def GetColor( position1, position2, position3, position1_color, position2_color, position3_color, x, y):\n",
    "  x1 = position1[0]\n",
    "  x2 = position2[0]\n",
    "  x3 = position3[0]\n",
    "\n",
    "  y1 = position1[1]\n",
    "  y2 = position2[1]\n",
    "  y3 = position3[1]\n",
    "\n",
    "  A1 = 0.5*abs((x*(y2-y3)) + (x2*(y3-y)) + (x3*(y-y2)))\n",
    "  A2 = 0.5*abs((x1*(y-y3)) + (x*(y3-y1)) + (x3*(y1-y)))\n",
    "  A3 = 0.5*abs((x1*(y2-y)) + (x2*(y-y1)) + (x*(y1-y2)))\n",
    "  Atotal = 0.5*abs((x1*(y2-y3)) + (x2*(y3-y1)) + (x3*(y1-y2)))\n",
    "\n",
    "  L1 = A1 / Atotal\n",
    "  L2 = A2 / Atotal\n",
    "  L3 = A3 / Atotal\n",
    "\n",
    "  #position1_color: np.array([R,G,B])\n",
    "  return L1*position1_color + L2*position2_color + L3*position3_color\n"
   ]
  },
  {
   "cell_type": "markdown",
   "metadata": {
    "id": "HFOwYdGQs-sG"
   },
   "source": [
    "## Write them into screen buffer"
   ]
  },
  {
   "cell_type": "code",
   "execution_count": null,
   "metadata": {
    "colab": {
     "base_uri": "https://localhost:8080/"
    },
    "id": "0q3PhWwXLCgl",
    "outputId": "daa086ad-1385-46bc-c479-a81656e39997"
   },
   "outputs": [
    {
     "data": {
      "text/plain": [
       "array([[640.        , 360.        ],\n",
       "       [641.79466464, 360.        ],\n",
       "       [565.76892926, 283.96632125],\n",
       "       [553.24496757, 273.23291686],\n",
       "       [727.04468522, 272.94322384],\n",
       "       [718.04273886, 283.74395918],\n",
       "       [641.79466464, 207.7106051 ],\n",
       "       [640.        , 186.17662351]])"
      ]
     },
     "execution_count": 48,
     "metadata": {},
     "output_type": "execute_result"
    }
   ],
   "source": [
    "box.screen_space_vertices"
   ]
  },
  {
   "cell_type": "code",
   "execution_count": null,
   "metadata": {
    "colab": {
     "base_uri": "https://localhost:8080/",
     "height": 1000
    },
    "id": "qAvaLNDwtF87",
    "outputId": "57d71071-6693-4ec2-e6a6-f3cbd1238608"
   },
   "outputs": [
    {
     "name": "stderr",
     "output_type": "stream",
     "text": [
      "Rendering frames:   0%|          | 0/360 [00:00<?, ?it/s, Camera position=(5.00, 5.00, 0.00)]<ipython-input-39-7f6d536e0ff3>:17: RuntimeWarning: invalid value encountered in scalar divide\n",
      "  L1 = A1 / Atotal\n",
      "<ipython-input-39-7f6d536e0ff3>:18: RuntimeWarning: invalid value encountered in scalar divide\n",
      "  L2 = A2 / Atotal\n",
      "<ipython-input-39-7f6d536e0ff3>:19: RuntimeWarning: invalid value encountered in scalar divide\n",
      "  L3 = A3 / Atotal\n",
      "<ipython-input-39-7f6d536e0ff3>:17: RuntimeWarning: divide by zero encountered in scalar divide\n",
      "  L1 = A1 / Atotal\n",
      "<ipython-input-39-7f6d536e0ff3>:18: RuntimeWarning: divide by zero encountered in scalar divide\n",
      "  L2 = A2 / Atotal\n",
      "<ipython-input-39-7f6d536e0ff3>:19: RuntimeWarning: divide by zero encountered in scalar divide\n",
      "  L3 = A3 / Atotal\n"
     ]
    },
    {
     "name": "stdout",
     "output_type": "stream",
     "text": [
      "[0 1 2]\n",
      "[640. 360.] [640. 360.] [563.85661284 283.85661284]\n",
      "Atotal:0.0, [640. 360.]\n",
      " [640. 360.]\n",
      " [563.85661284 283.85661284]\n",
      "Atotal:0.0, [640. 360.]\n",
      " [640. 360.]\n",
      " [563.85661284 283.85661284]\n",
      "Atotal:0.0, [640. 360.]\n",
      " [640. 360.]\n",
      " [563.85661284 283.85661284]\n",
      "Atotal:0.0, [640. 360.]\n",
      " [640. 360.]\n",
      " [563.85661284 283.85661284]\n",
      "Atotal:0.0, [640. 360.]\n",
      " [640. 360.]\n",
      " [563.85661284 283.85661284]\n",
      "Atotal:0.0, [640. 360.]\n",
      " [640. 360.]\n",
      " [563.85661284 283.85661284]\n",
      "Atotal:0.0, [640. 360.]\n",
      " [640. 360.]\n",
      " [563.85661284 283.85661284]\n",
      "Atotal:0.0, [640. 360.]\n",
      " [640. 360.]\n",
      " [563.85661284 283.85661284]\n",
      "Atotal:0.0, [640. 360.]\n",
      " [640. 360.]\n",
      " [563.85661284 283.85661284]\n",
      "Atotal:0.0, [640. 360.]\n",
      " [640. 360.]\n",
      " [563.85661284 283.85661284]\n",
      "Atotal:0.0, [640. 360.]\n",
      " [640. 360.]\n",
      " [563.85661284 283.85661284]\n",
      "Atotal:0.0, [640. 360.]\n",
      " [640. 360.]\n",
      " [563.85661284 283.85661284]\n",
      "Atotal:0.0, [640. 360.]\n",
      " [640. 360.]\n",
      " [563.85661284 283.85661284]\n",
      "Atotal:0.0, [640. 360.]\n",
      " [640. 360.]\n",
      " [563.85661284 283.85661284]\n",
      "Atotal:0.0, [640. 360.]\n",
      " [640. 360.]\n",
      " [563.85661284 283.85661284]\n",
      "Atotal:0.0, [640. 360.]\n",
      " [640. 360.]\n",
      " [563.85661284 283.85661284]\n",
      "Atotal:0.0, [640. 360.]\n",
      " [640. 360.]\n",
      " [563.85661284 283.85661284]\n",
      "Atotal:0.0, [640. 360.]\n",
      " [640. 360.]\n",
      " [563.85661284 283.85661284]\n",
      "Atotal:0.0, [640. 360.]\n",
      " [640. 360.]\n",
      " [563.85661284 283.85661284]\n",
      "Atotal:0.0, [640. 360.]\n",
      " [640. 360.]\n",
      " [563.85661284 283.85661284]\n",
      "Atotal:0.0, [640. 360.]\n",
      " [640. 360.]\n",
      " [563.85661284 283.85661284]\n",
      "Atotal:0.0, [640. 360.]\n",
      " [640. 360.]\n",
      " [563.85661284 283.85661284]\n",
      "Atotal:0.0, [640. 360.]\n",
      " [640. 360.]\n",
      " [563.85661284 283.85661284]\n",
      "Atotal:0.0, [640. 360.]\n",
      " [640. 360.]\n",
      " [563.85661284 283.85661284]\n",
      "Atotal:0.0, [640. 360.]\n",
      " [640. 360.]\n",
      " [563.85661284 283.85661284]\n",
      "Atotal:0.0, [640. 360.]\n",
      " [640. 360.]\n",
      " [563.85661284 283.85661284]\n",
      "Atotal:0.0, [640. 360.]\n",
      " [640. 360.]\n",
      " [563.85661284 283.85661284]\n",
      "Atotal:0.0, [640. 360.]\n",
      " [640. 360.]\n",
      " [563.85661284 283.85661284]\n",
      "Atotal:0.0, [640. 360.]\n",
      " [640. 360.]\n",
      " [563.85661284 283.85661284]\n",
      "Atotal:0.0, [640. 360.]\n",
      " [640. 360.]\n",
      " [563.85661284 283.85661284]\n",
      "Atotal:0.0, [640. 360.]\n",
      " [640. 360.]\n",
      " [563.85661284 283.85661284]\n",
      "Atotal:0.0, [640. 360.]\n",
      " [640. 360.]\n",
      " [563.85661284 283.85661284]\n",
      "Atotal:0.0, [640. 360.]\n",
      " [640. 360.]\n",
      " [563.85661284 283.85661284]\n",
      "Atotal:0.0, [640. 360.]\n",
      " [640. 360.]\n",
      " [563.85661284 283.85661284]\n",
      "Atotal:0.0, [640. 360.]\n",
      " [640. 360.]\n",
      " [563.85661284 283.85661284]\n",
      "Atotal:0.0, [640. 360.]\n",
      " [640. 360.]\n",
      " [563.85661284 283.85661284]\n",
      "Atotal:0.0, [640. 360.]\n",
      " [640. 360.]\n",
      " [563.85661284 283.85661284]\n",
      "Atotal:0.0, [640. 360.]\n",
      " [640. 360.]\n",
      " [563.85661284 283.85661284]\n",
      "Atotal:0.0, [640. 360.]\n",
      " [640. 360.]\n",
      " [563.85661284 283.85661284]\n",
      "Atotal:0.0, [640. 360.]\n",
      " [640. 360.]\n",
      " [563.85661284 283.85661284]\n",
      "Atotal:0.0, [640. 360.]\n",
      " [640. 360.]\n",
      " [563.85661284 283.85661284]\n",
      "Atotal:0.0, [640. 360.]\n",
      " [640. 360.]\n",
      " [563.85661284 283.85661284]\n",
      "Atotal:0.0, [640. 360.]\n",
      " [640. 360.]\n",
      " [563.85661284 283.85661284]\n",
      "Atotal:0.0, [640. 360.]\n",
      " [640. 360.]\n",
      " [563.85661284 283.85661284]\n",
      "Atotal:0.0, [640. 360.]\n",
      " [640. 360.]\n",
      " [563.85661284 283.85661284]\n",
      "Atotal:0.0, [640. 360.]\n",
      " [640. 360.]\n",
      " [563.85661284 283.85661284]\n",
      "Atotal:0.0, [640. 360.]\n",
      " [640. 360.]\n",
      " [563.85661284 283.85661284]\n",
      "Atotal:0.0, [640. 360.]\n",
      " [640. 360.]\n",
      " [563.85661284 283.85661284]\n",
      "Atotal:0.0, [640. 360.]\n",
      " [640. 360.]\n",
      " [563.85661284 283.85661284]\n",
      "Atotal:0.0, [640. 360.]\n",
      " [640. 360.]\n",
      " [563.85661284 283.85661284]\n",
      "Atotal:0.0, [640. 360.]\n",
      " [640. 360.]\n",
      " [563.85661284 283.85661284]\n",
      "Atotal:0.0, [640. 360.]\n",
      " [640. 360.]\n",
      " [563.85661284 283.85661284]\n",
      "Atotal:0.0, [640. 360.]\n",
      " [640. 360.]\n",
      " [563.85661284 283.85661284]\n",
      "Atotal:0.0, [640. 360.]\n",
      " [640. 360.]\n",
      " [563.85661284 283.85661284]\n",
      "Atotal:0.0, [640. 360.]\n",
      " [640. 360.]\n",
      " [563.85661284 283.85661284]\n",
      "Atotal:0.0, [640. 360.]\n",
      " [640. 360.]\n",
      " [563.85661284 283.85661284]\n",
      "Atotal:0.0, [640. 360.]\n",
      " [640. 360.]\n",
      " [563.85661284 283.85661284]\n",
      "Atotal:0.0, [640. 360.]\n",
      " [640. 360.]\n",
      " [563.85661284 283.85661284]\n",
      "Atotal:0.0, [640. 360.]\n",
      " [640. 360.]\n",
      " [563.85661284 283.85661284]\n",
      "Atotal:0.0, [640. 360.]\n",
      " [640. 360.]\n",
      " [563.85661284 283.85661284]\n",
      "Atotal:0.0, [640. 360.]\n",
      " [640. 360.]\n",
      " [563.85661284 283.85661284]\n",
      "Atotal:0.0, [640. 360.]\n",
      " [640. 360.]\n",
      " [563.85661284 283.85661284]\n",
      "Atotal:0.0, [640. 360.]\n",
      " [640. 360.]\n",
      " [563.85661284 283.85661284]\n",
      "Atotal:0.0, [640. 360.]\n",
      " [640. 360.]\n",
      " [563.85661284 283.85661284]\n",
      "Atotal:0.0, [640. 360.]\n",
      " [640. 360.]\n",
      " [563.85661284 283.85661284]\n",
      "Atotal:0.0, [640. 360.]\n",
      " [640. 360.]\n",
      " [563.85661284 283.85661284]\n",
      "Atotal:0.0, [640. 360.]\n",
      " [640. 360.]\n",
      " [563.85661284 283.85661284]\n",
      "Atotal:0.0, [640. 360.]\n",
      " [640. 360.]\n",
      " [563.85661284 283.85661284]\n",
      "Atotal:0.0, [640. 360.]\n",
      " [640. 360.]\n",
      " [563.85661284 283.85661284]\n",
      "Atotal:0.0, [640. 360.]\n",
      " [640. 360.]\n",
      " [563.85661284 283.85661284]\n",
      "Atotal:0.0, [640. 360.]\n",
      " [640. 360.]\n",
      " [563.85661284 283.85661284]\n",
      "Atotal:0.0, [640. 360.]\n",
      " [640. 360.]\n",
      " [563.85661284 283.85661284]\n",
      "Atotal:0.0, [640. 360.]\n",
      " [640. 360.]\n",
      " [563.85661284 283.85661284]\n",
      "Atotal:0.0, [640. 360.]\n",
      " [640. 360.]\n",
      " [563.85661284 283.85661284]\n",
      "Atotal:0.0, [640. 360.]\n",
      " [640. 360.]\n",
      " [563.85661284 283.85661284]\n",
      "Atotal:0.0, [640. 360.]\n",
      " [640. 360.]\n",
      " [563.85661284 283.85661284]\n",
      "Atotal:0.0, [640. 360.]\n",
      " [640. 360.]\n",
      " [563.85661284 283.85661284]\n",
      "[0 2 3]\n",
      "[640. 360.] [563.85661284 283.85661284] [553.08831175 273.08831175]\n",
      "Atotal:0.0, [640. 360.]\n",
      " [563.85661284 283.85661284]\n",
      " [553.08831175 273.08831175]\n",
      "Atotal:0.0, [640. 360.]\n",
      " [563.85661284 283.85661284]\n",
      " [553.08831175 273.08831175]\n",
      "Atotal:0.0, [640. 360.]\n",
      " [563.85661284 283.85661284]\n",
      " [553.08831175 273.08831175]\n",
      "Atotal:0.0, [640. 360.]\n",
      " [563.85661284 283.85661284]\n",
      " [553.08831175 273.08831175]\n",
      "Atotal:0.0, [640. 360.]\n",
      " [563.85661284 283.85661284]\n",
      " [553.08831175 273.08831175]\n",
      "Atotal:0.0, [640. 360.]\n",
      " [563.85661284 283.85661284]\n",
      " [553.08831175 273.08831175]\n",
      "Atotal:0.0, [640. 360.]\n",
      " [563.85661284 283.85661284]\n",
      " [553.08831175 273.08831175]\n",
      "Atotal:0.0, [640. 360.]\n",
      " [563.85661284 283.85661284]\n",
      " [553.08831175 273.08831175]\n",
      "Atotal:0.0, [640. 360.]\n",
      " [563.85661284 283.85661284]\n",
      " [553.08831175 273.08831175]\n",
      "Atotal:0.0, [640. 360.]\n",
      " [563.85661284 283.85661284]\n",
      " [553.08831175 273.08831175]\n",
      "Atotal:0.0, [640. 360.]\n",
      " [563.85661284 283.85661284]\n",
      " [553.08831175 273.08831175]\n",
      "Atotal:0.0, [640. 360.]\n",
      " [563.85661284 283.85661284]\n",
      " [553.08831175 273.08831175]\n",
      "Atotal:0.0, [640. 360.]\n",
      " [563.85661284 283.85661284]\n",
      " [553.08831175 273.08831175]\n",
      "Atotal:0.0, [640. 360.]\n",
      " [563.85661284 283.85661284]\n",
      " [553.08831175 273.08831175]\n",
      "Atotal:0.0, [640. 360.]\n",
      " [563.85661284 283.85661284]\n",
      " [553.08831175 273.08831175]\n",
      "Atotal:0.0, [640. 360.]\n",
      " [563.85661284 283.85661284]\n",
      " [553.08831175 273.08831175]\n",
      "Atotal:0.0, [640. 360.]\n",
      " [563.85661284 283.85661284]\n",
      " [553.08831175 273.08831175]\n",
      "Atotal:0.0, [640. 360.]\n",
      " [563.85661284 283.85661284]\n",
      " [553.08831175 273.08831175]\n",
      "Atotal:0.0, [640. 360.]\n",
      " [563.85661284 283.85661284]\n",
      " [553.08831175 273.08831175]\n",
      "Atotal:0.0, [640. 360.]\n",
      " [563.85661284 283.85661284]\n",
      " [553.08831175 273.08831175]\n",
      "Atotal:0.0, [640. 360.]\n",
      " [563.85661284 283.85661284]\n",
      " [553.08831175 273.08831175]\n",
      "Atotal:0.0, [640. 360.]\n",
      " [563.85661284 283.85661284]\n",
      " [553.08831175 273.08831175]\n",
      "Atotal:0.0, [640. 360.]\n",
      " [563.85661284 283.85661284]\n",
      " [553.08831175 273.08831175]\n",
      "Atotal:0.0, [640. 360.]\n",
      " [563.85661284 283.85661284]\n",
      " [553.08831175 273.08831175]\n",
      "Atotal:0.0, [640. 360.]\n",
      " [563.85661284 283.85661284]\n",
      " [553.08831175 273.08831175]\n",
      "Atotal:0.0, [640. 360.]\n",
      " [563.85661284 283.85661284]\n",
      " [553.08831175 273.08831175]\n",
      "Atotal:0.0, [640. 360.]\n",
      " [563.85661284 283.85661284]\n",
      " [553.08831175 273.08831175]\n",
      "Atotal:0.0, [640. 360.]\n",
      " [563.85661284 283.85661284]\n",
      " [553.08831175 273.08831175]\n",
      "Atotal:0.0, [640. 360.]\n",
      " [563.85661284 283.85661284]\n",
      " [553.08831175 273.08831175]\n",
      "Atotal:0.0, [640. 360.]\n",
      " [563.85661284 283.85661284]\n",
      " [553.08831175 273.08831175]\n",
      "Atotal:0.0, [640. 360.]\n",
      " [563.85661284 283.85661284]\n",
      " [553.08831175 273.08831175]\n",
      "Atotal:0.0, [640. 360.]\n",
      " [563.85661284 283.85661284]\n",
      " [553.08831175 273.08831175]\n",
      "Atotal:0.0, [640. 360.]\n",
      " [563.85661284 283.85661284]\n",
      " [553.08831175 273.08831175]\n",
      "Atotal:0.0, [640. 360.]\n",
      " [563.85661284 283.85661284]\n",
      " [553.08831175 273.08831175]\n",
      "Atotal:0.0, [640. 360.]\n",
      " [563.85661284 283.85661284]\n",
      " [553.08831175 273.08831175]\n",
      "Atotal:0.0, [640. 360.]\n",
      " [563.85661284 283.85661284]\n",
      " [553.08831175 273.08831175]\n",
      "Atotal:0.0, [640. 360.]\n",
      " [563.85661284 283.85661284]\n",
      " [553.08831175 273.08831175]\n",
      "Atotal:0.0, [640. 360.]\n",
      " [563.85661284 283.85661284]\n",
      " [553.08831175 273.08831175]\n",
      "Atotal:0.0, [640. 360.]\n",
      " [563.85661284 283.85661284]\n",
      " [553.08831175 273.08831175]\n",
      "Atotal:0.0, [640. 360.]\n",
      " [563.85661284 283.85661284]\n",
      " [553.08831175 273.08831175]\n",
      "Atotal:0.0, [640. 360.]\n",
      " [563.85661284 283.85661284]\n",
      " [553.08831175 273.08831175]\n",
      "Atotal:0.0, [640. 360.]\n",
      " [563.85661284 283.85661284]\n",
      " [553.08831175 273.08831175]\n",
      "Atotal:0.0, [640. 360.]\n",
      " [563.85661284 283.85661284]\n",
      " [553.08831175 273.08831175]\n",
      "Atotal:0.0, [640. 360.]\n",
      " [563.85661284 283.85661284]\n",
      " [553.08831175 273.08831175]\n",
      "Atotal:0.0, [640. 360.]\n",
      " [563.85661284 283.85661284]\n",
      " [553.08831175 273.08831175]\n",
      "Atotal:0.0, [640. 360.]\n",
      " [563.85661284 283.85661284]\n",
      " [553.08831175 273.08831175]\n",
      "Atotal:0.0, [640. 360.]\n",
      " [563.85661284 283.85661284]\n",
      " [553.08831175 273.08831175]\n",
      "Atotal:0.0, [640. 360.]\n",
      " [563.85661284 283.85661284]\n",
      " [553.08831175 273.08831175]\n",
      "Atotal:0.0, [640. 360.]\n",
      " [563.85661284 283.85661284]\n",
      " [553.08831175 273.08831175]\n",
      "Atotal:0.0, [640. 360.]\n",
      " [563.85661284 283.85661284]\n",
      " [553.08831175 273.08831175]\n",
      "Atotal:0.0, [640. 360.]\n",
      " [563.85661284 283.85661284]\n",
      " [553.08831175 273.08831175]\n",
      "Atotal:0.0, [640. 360.]\n",
      " [563.85661284 283.85661284]\n",
      " [553.08831175 273.08831175]\n",
      "Atotal:0.0, [640. 360.]\n",
      " [563.85661284 283.85661284]\n",
      " [553.08831175 273.08831175]\n",
      "Atotal:0.0, [640. 360.]\n",
      " [563.85661284 283.85661284]\n",
      " [553.08831175 273.08831175]\n",
      "Atotal:0.0, [640. 360.]\n",
      " [563.85661284 283.85661284]\n",
      " [553.08831175 273.08831175]\n",
      "Atotal:0.0, [640. 360.]\n",
      " [563.85661284 283.85661284]\n",
      " [553.08831175 273.08831175]\n",
      "Atotal:0.0, [640. 360.]\n",
      " [563.85661284 283.85661284]\n",
      " [553.08831175 273.08831175]\n",
      "Atotal:0.0, [640. 360.]\n",
      " [563.85661284 283.85661284]\n",
      " [553.08831175 273.08831175]\n",
      "Atotal:0.0, [640. 360.]\n",
      " [563.85661284 283.85661284]\n",
      " [553.08831175 273.08831175]\n",
      "Atotal:0.0, [640. 360.]\n",
      " [563.85661284 283.85661284]\n",
      " [553.08831175 273.08831175]\n",
      "Atotal:0.0, [640. 360.]\n",
      " [563.85661284 283.85661284]\n",
      " [553.08831175 273.08831175]\n",
      "Atotal:0.0, [640. 360.]\n",
      " [563.85661284 283.85661284]\n",
      " [553.08831175 273.08831175]\n",
      "Atotal:0.0, [640. 360.]\n",
      " [563.85661284 283.85661284]\n",
      " [553.08831175 273.08831175]\n",
      "Atotal:0.0, [640. 360.]\n",
      " [563.85661284 283.85661284]\n",
      " [553.08831175 273.08831175]\n",
      "Atotal:0.0, [640. 360.]\n",
      " [563.85661284 283.85661284]\n",
      " [553.08831175 273.08831175]\n",
      "Atotal:0.0, [640. 360.]\n",
      " [563.85661284 283.85661284]\n",
      " [553.08831175 273.08831175]\n",
      "Atotal:0.0, [640. 360.]\n",
      " [563.85661284 283.85661284]\n",
      " [553.08831175 273.08831175]\n",
      "Atotal:0.0, [640. 360.]\n",
      " [563.85661284 283.85661284]\n",
      " [553.08831175 273.08831175]\n",
      "Atotal:0.0, [640. 360.]\n",
      " [563.85661284 283.85661284]\n",
      " [553.08831175 273.08831175]\n",
      "Atotal:0.0, [640. 360.]\n",
      " [563.85661284 283.85661284]\n",
      " [553.08831175 273.08831175]\n",
      "Atotal:0.0, [640. 360.]\n",
      " [563.85661284 283.85661284]\n",
      " [553.08831175 273.08831175]\n",
      "Atotal:0.0, [640. 360.]\n",
      " [563.85661284 283.85661284]\n",
      " [553.08831175 273.08831175]\n",
      "Atotal:0.0, [640. 360.]\n",
      " [563.85661284 283.85661284]\n",
      " [553.08831175 273.08831175]\n",
      "Atotal:0.0, [640. 360.]\n",
      " [563.85661284 283.85661284]\n",
      " [553.08831175 273.08831175]\n",
      "Atotal:0.0, [640. 360.]\n",
      " [563.85661284 283.85661284]\n",
      " [553.08831175 273.08831175]\n",
      "Atotal:0.0, [640. 360.]\n",
      " [563.85661284 283.85661284]\n",
      " [553.08831175 273.08831175]\n",
      "Atotal:0.0, [640. 360.]\n",
      " [563.85661284 283.85661284]\n",
      " [553.08831175 273.08831175]\n",
      "[4 5 6]\n",
      "[726.91168825 273.08831175] [716.14338716 283.85661284] [640.         207.71322567]\n",
      "[4 6 7]\n",
      "[726.91168825 273.08831175] [640.         207.71322567] [640.         186.17662351]\n",
      "[0 4 7]\n",
      "[640. 360.] [726.91168825 273.08831175] [640.         186.17662351]\n",
      "[0 7 3]\n",
      "[640. 360.] [640.         186.17662351] [553.08831175 273.08831175]\n",
      "[1 5 6]\n",
      "[640. 360.] [716.14338716 283.85661284] [640.         207.71322567]\n",
      "[1 6 2]\n",
      "[640. 360.] [640.         207.71322567] [563.85661284 283.85661284]\n",
      "[0 1 5]\n",
      "[640. 360.] [640. 360.] [716.14338716 283.85661284]\n",
      "Atotal:0.0, [640. 360.]\n",
      " [640. 360.]\n",
      " [716.14338716 283.85661284]\n",
      "Atotal:0.0, [640. 360.]\n",
      " [640. 360.]\n",
      " [716.14338716 283.85661284]\n",
      "Atotal:0.0, [640. 360.]\n",
      " [640. 360.]\n",
      " [716.14338716 283.85661284]\n",
      "Atotal:0.0, [640. 360.]\n",
      " [640. 360.]\n",
      " [716.14338716 283.85661284]\n",
      "Atotal:0.0, [640. 360.]\n",
      " [640. 360.]\n",
      " [716.14338716 283.85661284]\n",
      "[0 5 4]\n",
      "[640. 360.] [716.14338716 283.85661284] [726.91168825 273.08831175]\n",
      "[3 2 6]\n",
      "[553.08831175 273.08831175] [563.85661284 283.85661284] [640.         207.71322567]\n",
      "[3 6 7]\n",
      "[553.08831175 273.08831175] [640.         207.71322567] [640.         186.17662351]\n"
     ]
    },
    {
     "name": "stderr",
     "output_type": "stream",
     "text": [
      "Rendering frames:   0%|          | 1/360 [00:01<06:48,  1.14s/it, Camera position=(5.00, 5.00, 0.08)]"
     ]
    },
    {
     "name": "stdout",
     "output_type": "stream",
     "text": [
      "[0 1 2]\n",
      "[640. 360.] [641.79466464 360.        ] [565.76892926 283.96632125]\n",
      "[0 2 3]\n",
      "[640. 360.] [565.76892926 283.96632125] [553.24496757 273.23291686]\n"
     ]
    },
    {
     "name": "stderr",
     "output_type": "stream",
     "text": [
      "\n"
     ]
    },
    {
     "ename": "KeyboardInterrupt",
     "evalue": "",
     "output_type": "error",
     "traceback": [
      "\u001b[0;31m---------------------------------------------------------------------------\u001b[0m",
      "\u001b[0;31mKeyboardInterrupt\u001b[0m                         Traceback (most recent call last)",
      "\u001b[0;32m<ipython-input-45-cf4961c5de22>\u001b[0m in \u001b[0;36m<cell line: 6>\u001b[0;34m()\u001b[0m\n\u001b[1;32m     43\u001b[0m           \u001b[0;32mfor\u001b[0m \u001b[0mw\u001b[0m \u001b[0;32min\u001b[0m \u001b[0mrange\u001b[0m\u001b[0;34m(\u001b[0m \u001b[0mint\u001b[0m\u001b[0;34m(\u001b[0m\u001b[0mmin\u001b[0m\u001b[0;34m(\u001b[0m \u001b[0mP1\u001b[0m\u001b[0;34m[\u001b[0m\u001b[0;36m0\u001b[0m\u001b[0;34m]\u001b[0m\u001b[0;34m,\u001b[0m \u001b[0mP2\u001b[0m\u001b[0;34m[\u001b[0m\u001b[0;36m0\u001b[0m\u001b[0;34m]\u001b[0m\u001b[0;34m,\u001b[0m \u001b[0mP3\u001b[0m\u001b[0;34m[\u001b[0m\u001b[0;36m0\u001b[0m\u001b[0;34m]\u001b[0m \u001b[0;34m)\u001b[0m \u001b[0;34m+\u001b[0m \u001b[0;36m0.5\u001b[0m\u001b[0;34m)\u001b[0m\u001b[0;34m,\u001b[0m \u001b[0mint\u001b[0m\u001b[0;34m(\u001b[0m\u001b[0mmax\u001b[0m\u001b[0;34m(\u001b[0m \u001b[0mP1\u001b[0m\u001b[0;34m[\u001b[0m\u001b[0;36m0\u001b[0m\u001b[0;34m]\u001b[0m\u001b[0;34m,\u001b[0m \u001b[0mP2\u001b[0m\u001b[0;34m[\u001b[0m\u001b[0;36m0\u001b[0m\u001b[0;34m]\u001b[0m\u001b[0;34m,\u001b[0m \u001b[0mP3\u001b[0m\u001b[0;34m[\u001b[0m\u001b[0;36m0\u001b[0m\u001b[0;34m]\u001b[0m \u001b[0;34m)\u001b[0m \u001b[0;34m+\u001b[0m \u001b[0;36m0.5\u001b[0m\u001b[0;34m)\u001b[0m \u001b[0;34m+\u001b[0m\u001b[0;36m1\u001b[0m \u001b[0;34m)\u001b[0m\u001b[0;34m:\u001b[0m\u001b[0;34m\u001b[0m\u001b[0;34m\u001b[0m\u001b[0m\n\u001b[1;32m     44\u001b[0m             \u001b[0;32mfor\u001b[0m \u001b[0mh\u001b[0m \u001b[0;32min\u001b[0m \u001b[0mrange\u001b[0m\u001b[0;34m(\u001b[0m \u001b[0mint\u001b[0m\u001b[0;34m(\u001b[0m\u001b[0mmin\u001b[0m\u001b[0;34m(\u001b[0m \u001b[0mP1\u001b[0m\u001b[0;34m[\u001b[0m\u001b[0;36m1\u001b[0m\u001b[0;34m]\u001b[0m\u001b[0;34m,\u001b[0m \u001b[0mP2\u001b[0m\u001b[0;34m[\u001b[0m\u001b[0;36m1\u001b[0m\u001b[0;34m]\u001b[0m\u001b[0;34m,\u001b[0m \u001b[0mP3\u001b[0m\u001b[0;34m[\u001b[0m\u001b[0;36m1\u001b[0m\u001b[0;34m]\u001b[0m \u001b[0;34m)\u001b[0m \u001b[0;34m+\u001b[0m \u001b[0;36m0.5\u001b[0m\u001b[0;34m)\u001b[0m\u001b[0;34m,\u001b[0m \u001b[0mint\u001b[0m\u001b[0;34m(\u001b[0m\u001b[0mmax\u001b[0m\u001b[0;34m(\u001b[0m \u001b[0mP1\u001b[0m\u001b[0;34m[\u001b[0m\u001b[0;36m1\u001b[0m\u001b[0;34m]\u001b[0m\u001b[0;34m,\u001b[0m \u001b[0mP2\u001b[0m\u001b[0;34m[\u001b[0m\u001b[0;36m1\u001b[0m\u001b[0;34m]\u001b[0m\u001b[0;34m,\u001b[0m \u001b[0mP3\u001b[0m\u001b[0;34m[\u001b[0m\u001b[0;36m1\u001b[0m\u001b[0;34m]\u001b[0m \u001b[0;34m)\u001b[0m \u001b[0;34m+\u001b[0m \u001b[0;36m0.5\u001b[0m\u001b[0;34m)\u001b[0m \u001b[0;34m+\u001b[0m\u001b[0;36m1\u001b[0m \u001b[0;34m)\u001b[0m\u001b[0;34m:\u001b[0m\u001b[0;34m\u001b[0m\u001b[0;34m\u001b[0m\u001b[0m\n\u001b[0;32m---> 45\u001b[0;31m               \u001b[0;32mif\u001b[0m \u001b[0mis_point_in_triangle_cross_product\u001b[0m\u001b[0;34m(\u001b[0m \u001b[0mP1\u001b[0m\u001b[0;34m,\u001b[0m \u001b[0mP2\u001b[0m\u001b[0;34m,\u001b[0m \u001b[0mP3\u001b[0m\u001b[0;34m,\u001b[0m \u001b[0;34m[\u001b[0m\u001b[0mw\u001b[0m\u001b[0;34m,\u001b[0m \u001b[0mh\u001b[0m\u001b[0;34m]\u001b[0m \u001b[0;34m)\u001b[0m\u001b[0;34m:\u001b[0m\u001b[0;34m\u001b[0m\u001b[0;34m\u001b[0m\u001b[0m\n\u001b[0m\u001b[1;32m     46\u001b[0m                 \u001b[0;31m# get depth\u001b[0m\u001b[0;34m\u001b[0m\u001b[0;34m\u001b[0m\u001b[0m\n\u001b[1;32m     47\u001b[0m                 \u001b[0mdepth\u001b[0m \u001b[0;34m=\u001b[0m \u001b[0mGetDepth\u001b[0m\u001b[0;34m(\u001b[0m \u001b[0mP1\u001b[0m\u001b[0;34m,\u001b[0m \u001b[0mP2\u001b[0m\u001b[0;34m,\u001b[0m \u001b[0mP3\u001b[0m\u001b[0;34m,\u001b[0m \u001b[0mP1_depth\u001b[0m\u001b[0;34m,\u001b[0m \u001b[0mP2_depth\u001b[0m\u001b[0;34m,\u001b[0m \u001b[0mP3_depth\u001b[0m\u001b[0;34m,\u001b[0m \u001b[0mw\u001b[0m\u001b[0;34m,\u001b[0m \u001b[0mh\u001b[0m \u001b[0;34m)\u001b[0m\u001b[0;34m\u001b[0m\u001b[0;34m\u001b[0m\u001b[0m\n",
      "\u001b[0;32m<ipython-input-31-30024517c408>\u001b[0m in \u001b[0;36mis_point_in_triangle_cross_product\u001b[0;34m(A, B, C, P)\u001b[0m\n\u001b[1;32m      3\u001b[0m \u001b[0;34m\u001b[0m\u001b[0m\n\u001b[1;32m      4\u001b[0m \u001b[0;32mdef\u001b[0m \u001b[0mis_point_in_triangle_cross_product\u001b[0m\u001b[0;34m(\u001b[0m\u001b[0mA\u001b[0m\u001b[0;34m,\u001b[0m \u001b[0mB\u001b[0m\u001b[0;34m,\u001b[0m \u001b[0mC\u001b[0m\u001b[0;34m,\u001b[0m \u001b[0mP\u001b[0m\u001b[0;34m)\u001b[0m\u001b[0;34m:\u001b[0m\u001b[0;34m\u001b[0m\u001b[0;34m\u001b[0m\u001b[0m\n\u001b[0;32m----> 5\u001b[0;31m     \u001b[0md1\u001b[0m \u001b[0;34m=\u001b[0m \u001b[0msign\u001b[0m\u001b[0;34m(\u001b[0m\u001b[0mP\u001b[0m\u001b[0;34m,\u001b[0m \u001b[0mA\u001b[0m\u001b[0;34m,\u001b[0m \u001b[0mB\u001b[0m\u001b[0;34m)\u001b[0m\u001b[0;34m\u001b[0m\u001b[0;34m\u001b[0m\u001b[0m\n\u001b[0m\u001b[1;32m      6\u001b[0m     \u001b[0md2\u001b[0m \u001b[0;34m=\u001b[0m \u001b[0msign\u001b[0m\u001b[0;34m(\u001b[0m\u001b[0mP\u001b[0m\u001b[0;34m,\u001b[0m \u001b[0mB\u001b[0m\u001b[0;34m,\u001b[0m \u001b[0mC\u001b[0m\u001b[0;34m)\u001b[0m\u001b[0;34m\u001b[0m\u001b[0;34m\u001b[0m\u001b[0m\n\u001b[1;32m      7\u001b[0m     \u001b[0md3\u001b[0m \u001b[0;34m=\u001b[0m \u001b[0msign\u001b[0m\u001b[0;34m(\u001b[0m\u001b[0mP\u001b[0m\u001b[0;34m,\u001b[0m \u001b[0mC\u001b[0m\u001b[0;34m,\u001b[0m \u001b[0mA\u001b[0m\u001b[0;34m)\u001b[0m\u001b[0;34m\u001b[0m\u001b[0;34m\u001b[0m\u001b[0m\n",
      "\u001b[0;31mKeyboardInterrupt\u001b[0m: "
     ]
    }
   ],
   "source": [
    "from PIL import Image\n",
    "box = Mesh()\n",
    "box.load_ply( '/content/drive/MyDrive/ICLAB_mesh/box.ply' )\n",
    "\n",
    "frames = []\n",
    "with tqdm(total=(2 * 3 * 360) // (2 * 3), desc=\"Rendering frames\", postfix={\"Camera position\": \"(0, 0, 0)\"}) as pbar:\n",
    "    for rad in range(0, 2 * 3 * 360, 2 * 3):\n",
    "        distance = 5\n",
    "        rad /= 360\n",
    "        CamX = distance * math.cos(rad)\n",
    "        CamY = distance\n",
    "        CamZ = distance * math.sin(rad)\n",
    "        camera = Camera( eyeX=CamX, eyeY=CamY, eyeZ=CamZ,\n",
    "          centerX=0, centerY=0, centerZ=0,\n",
    "          upX=0, upY=1, upZ=0,\n",
    "          screen_W=1280, screen_H=720,\n",
    "          near_clipping_plane=0.1, far_clipping_plane=1000,\n",
    "          fov=45 )\n",
    "        # print(f\"Camera position: ({camera.eyeX}, {camera.eyeY}, {camera.eyeZ})\")\n",
    "\n",
    "        # Update the progress bar's postfix with the current camera position\n",
    "        pbar.set_postfix({\"Camera position\": f\"({CamX:.2f}, {CamY:.2f}, {CamZ:.2f})\"})\n",
    "\n",
    "        perform_MVP_transformation(camera, box)\n",
    "        NDC_transformation(box)\n",
    "        NDC_to_screen(camera, box)\n",
    "\n",
    "        for face in box.faces:\n",
    "          # print(\"Face vertices indices:\", face)\n",
    "          P1 = box.screen_space_vertices[face[0]]\n",
    "          P2 = box.screen_space_vertices[face[1]]\n",
    "          P3 = box.screen_space_vertices[face[2]]\n",
    "          P1_depth = box.NDC_vertices[face[0]][2]\n",
    "          P2_depth = box.NDC_vertices[face[1]][2]\n",
    "          P3_depth = box.NDC_vertices[face[2]][2]\n",
    "\n",
    "          P1_color = box.colors[face[0]]\n",
    "          P2_color = box.colors[face[1]]\n",
    "          P3_color = box.colors[face[2]]\n",
    "\n",
    "          for w in range( int(min( P1[0], P2[0], P3[0] ) + 0.5), int(max( P1[0], P2[0], P3[0] ) + 0.5) +1 ):\n",
    "            for h in range( int(min( P1[1], P2[1], P3[1] ) + 0.5), int(max( P1[1], P2[1], P3[1] ) + 0.5) +1 ):\n",
    "              if is_point_in_triangle_cross_product( P1, P2, P3, [w, h] ):\n",
    "                # get depth\n",
    "                depth = GetDepth( P1, P2, P3, P1_depth, P2_depth, P3_depth, w, h )\n",
    "                if (depth < camera.screen_depth_buffer[h][w]):\n",
    "                  camera.screen_depth_buffer[h][w] = depth\n",
    "                  camera.screen_buffer[h][w] =  GetColor( P1, P2, P3, P1_color, P2_color, P3_color, w, h )\n",
    "          # print(\"original vertices\", box.vertices[face[0]], box.vertices[face[1]], box.vertices[face[2]])\n",
    "          # print(\"screen space vertices\",P1,P2,P3)\n",
    "\n",
    "        frames.append(camera.screen_buffer)\n",
    "        # Update the progress bar\n",
    "        pbar.update(1)\n",
    "\n",
    "# Convert arrays to PIL Image objects\n",
    "images = [Image.fromarray(frame, mode='RGB') for frame in frames]\n",
    "\n",
    "# Save as a GIF\n",
    "images[0].save(\n",
    "    \"output.gif\",\n",
    "    save_all=True,\n",
    "    append_images=images[1:],  # Add the rest of the frames\n",
    "    duration=5,             # Duration of each frame in milliseconds\n",
    "    loop=0                    # 0 means infinite loop\n",
    ")\n"
   ]
  },
  {
   "cell_type": "code",
   "execution_count": null,
   "metadata": {
    "id": "4xaf8feVWSGq"
   },
   "outputs": [],
   "source": [
    "# Save as a GIF\n",
    "images[0].save(\n",
    "    \"output.gif\",\n",
    "    save_all=True,\n",
    "    append_images=images[1:],  # Add the rest of the frames\n",
    "    duration=10,             # Duration of each frame in milliseconds\n",
    "    loop=0                    # 0 means infinite loop\n",
    ")"
   ]
  },
  {
   "cell_type": "code",
   "execution_count": null,
   "metadata": {
    "id": "Y2KHT2eBwhYC"
   },
   "outputs": [],
   "source": [
    "depth_map = []\n",
    "MAX = max(camera.screen_depth_buffer.flatten())\n",
    "MIN = min(camera.screen_depth_buffer.flatten())\n",
    "\n",
    "for i in range(camera.screen_depth_buffer.shape[0]):\n",
    "  tmp = []\n",
    "  for j in range(camera.screen_depth_buffer.shape[1]):\n",
    "    tmp.append([(camera.screen_depth_buffer[i][j] - MIN) / (MAX - MIN), 255, 255])\n",
    "  depth_map.append(tmp)\n",
    "\n",
    "plt.imshow(depth_map)\n",
    "plt.axis('off')\n",
    "plt.show()"
   ]
  },
  {
   "cell_type": "code",
   "execution_count": null,
   "metadata": {
    "id": "Tlp0YNEQy4QS"
   },
   "outputs": [],
   "source": [
    "perform_MVP_transformation(camera, box).clip_space_vertices"
   ]
  },
  {
   "cell_type": "code",
   "execution_count": null,
   "metadata": {
    "id": "bQsWDAa4y8eC"
   },
   "outputs": [],
   "source": [
    "box.clip_space_vertices"
   ]
  },
  {
   "cell_type": "markdown",
   "metadata": {
    "id": "86DhXTlls7Yc"
   },
   "source": [
    "## Webber implementation"
   ]
  },
  {
   "cell_type": "code",
   "execution_count": null,
   "metadata": {
    "colab": {
     "base_uri": "https://localhost:8080/",
     "height": 1000
    },
    "id": "a0ftlhZGTkoJ",
    "outputId": "490ce30a-ab28-49d4-806b-5414a4431019"
   },
   "outputs": [
    {
     "name": "stdout",
     "output_type": "stream",
     "text": [
      "[[194.07586493 175.50708654]\n",
      " [192.97638945 185.20977561]\n",
      " [197.84988097 166.01608027]\n",
      " ...\n",
      " [750.71003554 217.34998958]\n",
      " [750.71003554 217.34998958]\n",
      " [751.21928752 217.62755375]]\n",
      "[0.96684068 0.96710585 0.96663498 ... 0.98145889 0.98145889 0.98146174]\n",
      "Face vertices indices: [2908 2920 2938]\n",
      "[644.75170395 160.21350701] [699.29094516 396.55935702] [701.17726608 146.2537589 ]\n",
      "start_point:[644.7517039527247, 146.25375889833003]\n",
      "end_point:[701.1772660848156, 396.55935701990364]\n",
      "Face vertices indices: [2938 2930 2908]\n",
      "[701.17726608 146.2537589 ] [634.96124949 177.51831931] [644.75170395 160.21350701]\n",
      "start_point:[634.961249491737, 146.25375889833003]\n",
      "end_point:[701.1772660848156, 177.51831931154302]\n",
      "Face vertices indices: [2868 2876 2920]\n",
      "[717.3347167  388.13379599] [640.2047037  160.09707995] [699.29094516 396.55935702]\n",
      "start_point:[640.2047036953873, 160.09707995052756]\n",
      "end_point:[717.3347167048081, 396.55935701990364]\n",
      "Face vertices indices: [2920 2908 2868]\n",
      "[699.29094516 396.55935702] [644.75170395 160.21350701] [717.3347167  388.13379599]\n",
      "start_point:[644.7517039527247, 160.21350700896795]\n",
      "end_point:[717.3347167048081, 396.55935701990364]\n",
      "Face vertices indices: [2818 2826 2876]\n",
      "[775.44861032 302.98683772] [794.73321262 225.93071578] [640.2047037  160.09707995]\n",
      "start_point:[640.2047036953873, 160.09707995052756]\n",
      "end_point:[640.2047036953873, 302.9868377216623]\n",
      "Face vertices indices: [2876 2868 2818]\n",
      "[640.2047037  160.09707995] [717.3347167  388.13379599] [775.44861032 302.98683772]\n",
      "start_point:[640.2047036953873, 160.09707995052756]\n",
      "end_point:[775.4486103185786, 388.1337959857923]\n",
      "Face vertices indices: [2736 2746 2826]\n",
      "[778.96892633 286.70543265] [742.06813056 342.64238776] [794.73321262 225.93071578]\n",
      "start_point:[742.068130563239, 225.9307157769474]\n",
      "end_point:[794.7332126238307, 342.6423877576962]\n",
      "Face vertices indices: [2826 2818 2736]\n",
      "[794.73321262 225.93071578] [775.44861032 302.98683772] [778.96892633 286.70543265]\n",
      "start_point:[775.4486103185786, 225.9307157769474]\n",
      "end_point:[794.7332126238307, 302.9868377216623]\n",
      "Face vertices indices: [2668 2672 2746]\n",
      "[664.04139586 428.05063228] [641.41105389 108.98232386] [742.06813056 342.64238776]\n",
      "start_point:[641.4110538854566, 108.98232385799871]\n",
      "end_point:[742.068130563239, 428.0506322796815]\n",
      "Face vertices indices: [2746 2736 2668]\n",
      "[742.06813056 342.64238776] [778.96892633 286.70543265] [664.04139586 428.05063228]\n",
      "start_point:[664.0413958622546, 286.7054326454801]\n",
      "end_point:[664.0413958622546, 428.0506322796815]\n",
      "Face vertices indices: [2566 2574 2672]\n",
      "[644.74197772 438.58125402] [548.5784368 347.7349404] [641.41105389 108.98232386]\n",
      "start_point:[548.5784368028435, 108.98232385799871]\n",
      "end_point:[644.7419777152925, 438.5812540229995]\n",
      "Face vertices indices: [2672 2668 2566]\n",
      "[641.41105389 108.98232386] [664.04139586 428.05063228] [644.74197772 438.58125402]\n",
      "start_point:[641.4110538854566, 108.98232385799871]\n",
      "end_point:[641.4110538854566, 438.5812540229995]\n",
      "Face vertices indices: [2475 2479 2574]\n",
      "[769.61767004 244.52430478] [627.06323524  79.03092645] [548.5784368 347.7349404]\n",
      "start_point:[548.5784368028435, 79.03092645285155]\n",
      "end_point:[769.6176700417924, 347.73494039684334]\n",
      "Face vertices indices: [2574 2566 2475]\n",
      "[548.5784368 347.7349404] [644.74197772 438.58125402] [769.61767004 244.52430478]\n",
      "start_point:[548.5784368028435, 244.52430478481844]\n",
      "end_point:[769.6176700417924, 438.5812540229995]\n",
      "Face vertices indices: [2357 2361 2479]\n",
      "[604.6898217  454.83080613] [614.96477325  66.34998034] [627.06323524  79.03092645]\n",
      "start_point:[604.6898217040248, 66.34998034303729]\n",
      "end_point:[627.0632352421658, 454.8308061324723]\n",
      "Face vertices indices: [2479 2475 2357]\n",
      "[627.06323524  79.03092645] [769.61767004 244.52430478] [604.6898217  454.83080613]\n",
      "start_point:[604.6898217040248, 79.03092645285155]\n",
      "end_point:[604.6898217040248, 454.8308061324723]\n",
      "Face vertices indices: [2157 2161 2361]\n",
      "[584.20739641 460.204351  ] [599.42067493  55.79697629] [614.96477325  66.34998034]\n",
      "start_point:[584.2073964084815, 55.7969762864583]\n",
      "end_point:[614.9647732528396, 460.2043510032329]\n",
      "Face vertices indices: [2361 2357 2157]\n",
      "[614.96477325  66.34998034] [604.6898217  454.83080613] [584.20739641 460.204351  ]\n",
      "start_point:[584.2073964084815, 66.34998034303729]\n",
      "end_point:[614.9647732528396, 460.2043510032329]\n",
      "Face vertices indices: [1714 1811 2161]\n",
      "[462.5828029  295.64265567] [463.13698102 299.30130928] [599.42067493  55.79697629]\n",
      "start_point:[462.5828028956184, 55.7969762864583]\n",
      "end_point:[599.4206749329204, 299.3013092771357]\n",
      "Face vertices indices: [2161 2157 1714]\n",
      "[599.42067493  55.79697629] [584.20739641 460.204351  ] [462.5828029  295.64265567]\n",
      "start_point:[462.5828028956184, 55.7969762864583]\n",
      "end_point:[599.4206749329204, 460.2043510032329]\n",
      "Face vertices indices: [2900 2908 2930]\n",
      "[791.15107113 254.27924432] [644.75170395 160.21350701] [634.96124949 177.51831931]\n",
      "start_point:[634.961249491737, 160.21350700896795]\n",
      "end_point:[791.1510711311502, 254.2792443179424]\n",
      "Face vertices indices: [2930 2916 2900]\n",
      "[634.96124949 177.51831931] [753.93240501 151.76775232] [791.15107113 254.27924432]\n",
      "start_point:[634.961249491737, 151.7677523172383]\n",
      "end_point:[791.1510711311502, 254.2792443179424]\n",
      "Face vertices indices: [2862 2868 2908]\n",
      "[727.84392842 138.03714655] [717.3347167  388.13379599] [644.75170395 160.21350701]\n",
      "start_point:[644.7517039527247, 138.0371465525635]\n",
      "end_point:[727.8439284245223, 388.1337959857923]\n",
      "Face vertices indices: [2908 2900 2862]\n",
      "[644.75170395 160.21350701] [791.15107113 254.27924432] [727.84392842 138.03714655]\n",
      "start_point:[644.7517039527247, 138.0371465525635]\n",
      "end_point:[644.7517039527247, 254.2792443179424]\n",
      "Face vertices indices: [2812 2818 2868]\n",
      "[680.60528545 412.46774252] [775.44861032 302.98683772] [717.3347167  388.13379599]\n",
      "start_point:[680.6052854546474, 302.9868377216623]\n",
      "end_point:[680.6052854546474, 412.46774252138084]\n",
      "Face vertices indices: [2868 2862 2812]\n",
      "[717.3347167  388.13379599] [727.84392842 138.03714655] [680.60528545 412.46774252]\n",
      "start_point:[680.6052854546474, 138.0371465525635]\n",
      "end_point:[717.3347167048081, 412.46774252138084]\n",
      "Face vertices indices: [2728 2736 2818]\n",
      "[659.43928535 424.22237952] [778.96892633 286.70543265] [775.44861032 302.98683772]\n",
      "start_point:[659.4392853508748, 286.7054326454801]\n",
      "end_point:[659.4392853508748, 424.2223795232746]\n",
      "Face vertices indices: [2818 2812 2728]\n",
      "[775.44861032 302.98683772] [680.60528545 412.46774252] [659.43928535 424.22237952]\n",
      "start_point:[659.4392853508748, 302.9868377216623]\n",
      "end_point:[775.4486103185786, 424.2223795232746]\n",
      "Face vertices indices: [2662 2668 2736]\n",
      "[573.92748252 228.36450517] [664.04139586 428.05063228] [778.96892633 286.70543265]\n",
      "start_point:[573.9274825205939, 228.36450517200342]\n",
      "end_point:[778.9689263321179, 428.0506322796815]\n",
      "Face vertices indices: [2736 2728 2662]\n",
      "[778.96892633 286.70543265] [659.43928535 424.22237952] [573.92748252 228.36450517]\n",
      "start_point:[573.9274825205939, 228.36450517200342]\n",
      "end_point:[778.9689263321179, 424.2223795232746]\n",
      "Face vertices indices: [2560 2566 2668]\n",
      "[586.64438678 174.20492226] [644.74197772 438.58125402] [664.04139586 428.05063228]\n",
      "start_point:[586.6443867832114, 174.20492226345985]\n",
      "end_point:[664.0413958622546, 438.5812540229995]\n",
      "Face vertices indices: [2668 2662 2560]\n",
      "[664.04139586 428.05063228] [573.92748252 228.36450517] [586.64438678 174.20492226]\n",
      "start_point:[573.9274825205939, 174.20492226345985]\n",
      "end_point:[664.0413958622546, 428.0506322796815]\n",
      "Face vertices indices: [2467 2475 2566]\n",
      "[758.03306604 113.40810327] [769.61767004 244.52430478] [644.74197772 438.58125402]\n",
      "start_point:[644.7419777152925, 113.40810326633272]\n",
      "end_point:[758.0330660384902, 438.5812540229995]\n",
      "Face vertices indices: [2566 2560 2467]\n",
      "[644.74197772 438.58125402] [586.64438678 174.20492226] [758.03306604 113.40810327]\n",
      "start_point:[586.6443867832114, 113.40810326633272]\n",
      "end_point:[758.0330660384902, 438.5812540229995]\n",
      "Face vertices indices: [2349 2357 2475]\n",
      "[535.42304037 201.85514856] [604.6898217  454.83080613] [769.61767004 244.52430478]\n",
      "start_point:[535.4230403710773, 201.8551485632198]\n",
      "end_point:[769.6176700417924, 454.8308061324723]\n",
      "Face vertices indices: [2475 2467 2349]\n",
      "[769.61767004 244.52430478] [758.03306604 113.40810327] [535.42304037 201.85514856]\n",
      "start_point:[535.4230403710773, 113.40810326633272]\n",
      "end_point:[769.6176700417924, 244.52430478481844]\n",
      "Face vertices indices: [2151 2157 2357]\n",
      "[536.24259728 156.41112805] [584.20739641 460.204351  ] [604.6898217  454.83080613]\n",
      "start_point:[536.2425972806919, 156.4111280458643]\n",
      "end_point:[604.6898217040248, 460.2043510032329]\n",
      "Face vertices indices: [2357 2349 2151]\n",
      "[604.6898217  454.83080613] [535.42304037 201.85514856] [536.24259728 156.41112805]\n",
      "start_point:[535.4230403710773, 156.4111280458643]\n",
      "end_point:[604.6898217040248, 454.8308061324723]\n",
      "Face vertices indices: [1716 1714 2157]\n",
      "[462.34269648 292.41543454] [462.5828029  295.64265567] [584.20739641 460.204351  ]\n",
      "start_point:[462.3426964792918, 292.4154345395489]\n",
      "end_point:[584.2073964084815, 460.2043510032329]\n",
      "Face vertices indices: [2157 2151 1716]\n",
      "[584.20739641 460.204351  ] [536.24259728 156.41112805] [462.34269648 292.41543454]\n",
      "start_point:[462.3426964792918, 156.4111280458643]\n",
      "end_point:[584.2073964084815, 460.2043510032329]\n",
      "Face vertices indices: [2902 2900 2916]\n",
      "[634.79882487 179.51543994] [791.15107113 254.27924432] [753.93240501 151.76775232]\n",
      "start_point:[634.7988248736193, 151.7677523172383]\n",
      "end_point:[634.7988248736193, 254.2792443179424]\n",
      "Face vertices indices: [2916 2922 2902]\n",
      "[753.93240501 151.76775232] [639.14382598 183.1092579 ] [634.79882487 179.51543994]\n",
      "start_point:[634.7988248736193, 151.7677523172383]\n",
      "end_point:[753.9324050102737, 183.10925789628655]\n",
      "Face vertices indices: [2864 2862 2900]\n",
      "[640.84194223 161.990276  ] [727.84392842 138.03714655] [791.15107113 254.27924432]\n",
      "start_point:[640.8419422345024, 138.0371465525635]\n",
      "end_point:[791.1510711311502, 254.2792443179424]\n",
      "Face vertices indices: [2900 2902 2864]\n",
      "[791.15107113 254.27924432] [634.79882487 179.51543994] [640.84194223 161.990276  ]\n",
      "start_point:[634.7988248736193, 161.9902759970238]\n",
      "end_point:[791.1510711311502, 254.2792443179424]\n",
      "Face vertices indices: [2814 2812 2862]\n",
      "[644.12053776 144.62689451] [680.60528545 412.46774252] [727.84392842 138.03714655]\n",
      "start_point:[644.1205377633278, 138.0371465525635]\n",
      "end_point:[727.8439284245223, 412.46774252138084]\n",
      "Face vertices indices: [2862 2864 2814]\n",
      "[727.84392842 138.03714655] [640.84194223 161.990276  ] [644.12053776 144.62689451]\n",
      "start_point:[640.8419422345024, 138.0371465525635]\n",
      "end_point:[727.8439284245223, 161.9902759970238]\n",
      "Face vertices indices: [2732 2728 2812]\n",
      "[670.26494581 114.46303458] [659.43928535 424.22237952] [680.60528545 412.46774252]\n",
      "start_point:[659.4392853508748, 114.46303457740797]\n",
      "end_point:[680.6052854546474, 424.2223795232746]\n",
      "Face vertices indices: [2812 2814 2732]\n",
      "[680.60528545 412.46774252] [644.12053776 144.62689451] [670.26494581 114.46303458]\n",
      "start_point:[644.1205377633278, 114.46303457740797]\n",
      "end_point:[680.6052854546474, 412.46774252138084]\n",
      "Face vertices indices: [2664 2662 2728]\n",
      "[642.08001084 111.2437237 ] [573.92748252 228.36450517] [659.43928535 424.22237952]\n",
      "start_point:[573.9274825205939, 111.24372370391231]\n",
      "end_point:[659.4392853508748, 424.2223795232746]\n",
      "Face vertices indices: [2728 2732 2664]\n",
      "[659.43928535 424.22237952] [670.26494581 114.46303458] [642.08001084 111.2437237 ]\n",
      "start_point:[642.080010844636, 111.24372370391231]\n",
      "end_point:[642.080010844636, 424.2223795232746]\n",
      "Face vertices indices: [2563 2560 2662]\n",
      "[635.73195483  94.53243672] [586.64438678 174.20492226] [573.92748252 228.36450517]\n",
      "start_point:[573.9274825205939, 94.53243671513361]\n",
      "end_point:[635.7319548254025, 228.36450517200342]\n",
      "Face vertices indices: [2662 2664 2563]\n",
      "[573.92748252 228.36450517] [642.08001084 111.2437237 ] [635.73195483  94.53243672]\n",
      "start_point:[573.9274825205939, 94.53243671513361]\n",
      "end_point:[573.9274825205939, 228.36450517200342]\n",
      "Face vertices indices: [2472 2467 2560]\n",
      "[627.00312891  80.28509536] [758.03306604 113.40810327] [586.64438678 174.20492226]\n",
      "start_point:[586.6443867832114, 80.28509536401658]\n",
      "end_point:[627.0031289100878, 174.20492226345985]\n",
      "Face vertices indices: [2560 2563 2472]\n",
      "[586.64438678 174.20492226] [635.73195483  94.53243672] [627.00312891  80.28509536]\n",
      "start_point:[586.6443867832114, 80.28509536401658]\n",
      "end_point:[586.6443867832114, 174.20492226345985]\n",
      "Face vertices indices: [2353 2349 2467]\n",
      "[630.52533848 425.16600077] [535.42304037 201.85514856] [758.03306604 113.40810327]\n",
      "start_point:[535.4230403710773, 113.40810326633272]\n",
      "end_point:[758.0330660384902, 425.16600076711995]\n",
      "Face vertices indices: [2467 2472 2353]\n",
      "[758.03306604 113.40810327] [627.00312891  80.28509536] [630.52533848 425.16600077]\n",
      "start_point:[627.0031289100878, 80.28509536401658]\n",
      "end_point:[758.0330660384902, 425.16600076711995]\n",
      "Face vertices indices: [2154 2151 2349]\n",
      "[599.50609941  57.23154877] [536.24259728 156.41112805] [535.42304037 201.85514856]\n",
      "start_point:[535.4230403710773, 57.23154876722529]\n",
      "end_point:[599.5060994139233, 201.8551485632198]\n",
      "Face vertices indices: [2349 2353 2154]\n",
      "[535.42304037 201.85514856] [630.52533848 425.16600077] [599.50609941  57.23154877]\n",
      "start_point:[535.4230403710773, 57.23154876722529]\n",
      "end_point:[535.4230403710773, 425.16600076711995]\n",
      "Face vertices indices: [1926 1716 2151]\n",
      "[717.97417801  96.65605451] [462.34269648 292.41543454] [536.24259728 156.41112805]\n",
      "start_point:[462.3426964792918, 96.65605450616074]\n",
      "end_point:[717.9741780063102, 292.4154345395489]\n",
      "Face vertices indices: [2151 2154 1926]\n",
      "[536.24259728 156.41112805] [599.50609941  57.23154877] [717.97417801  96.65605451]\n",
      "start_point:[536.2425972806919, 57.23154876722529]\n",
      "end_point:[717.9741780063102, 156.4111280458643]\n",
      "Face vertices indices: [2910 2902 2922]\n",
      "[636.46227725 181.08478485] [634.79882487 179.51543994] [639.14382598 183.1092579 ]\n",
      "start_point:[634.7988248736193, 179.51543993811123]\n",
      "end_point:[639.1438259778612, 183.10925789628655]\n",
      "Face vertices indices: [2922 2934 2910]\n",
      "[639.14382598 183.1092579 ] [647.34018591 161.09156309] [636.46227725 181.08478485]\n",
      "start_point:[636.4622772451064, 161.09156309368242]\n",
      "end_point:[636.4622772451064, 183.10925789628655]\n",
      "Face vertices indices: [2874 2864 2902]\n",
      "[782.06706276 296.47282241] [640.84194223 161.990276  ] [634.79882487 179.51543994]\n",
      "start_point:[634.7988248736193, 161.9902759970238]\n",
      "end_point:[782.0670627587663, 296.47282240616425]\n",
      "Face vertices indices: [2902 2910 2874]\n",
      "[634.79882487 179.51543994] [636.46227725 181.08478485] [782.06706276 296.47282241]\n",
      "start_point:[634.7988248736193, 179.51543993811123]\n",
      "end_point:[782.0670627587663, 296.47282240616425]\n",
      "Face vertices indices: [2822 2814 2864]\n",
      "[637.08040691 166.51399164] [644.12053776 144.62689451] [640.84194223 161.990276  ]\n",
      "start_point:[637.0804069113531, 144.62689450585762]\n",
      "end_point:[640.8419422345024, 166.51399164433838]\n",
      "Face vertices indices: [2864 2874 2822]\n",
      "[640.84194223 161.990276  ] [782.06706276 296.47282241] [637.08040691 166.51399164]\n",
      "start_point:[637.0804069113531, 161.9902759970238]\n",
      "end_point:[637.0804069113531, 296.47282240616425]\n",
      "Face vertices indices: [2740 2732 2814]\n",
      "[794.03593916 184.84374791] [670.26494581 114.46303458] [644.12053776 144.62689451]\n",
      "start_point:[644.1205377633278, 114.46303457740797]\n",
      "end_point:[794.035939158524, 184.84374790721694]\n",
      "Face vertices indices: [2814 2822 2740]\n",
      "[644.12053776 144.62689451] [637.08040691 166.51399164] [794.03593916 184.84374791]\n",
      "start_point:[637.0804069113531, 144.62689450585762]\n",
      "end_point:[794.035939158524, 184.84374790721694]\n",
      "Face vertices indices: [2670 2664 2732]\n",
      "[643.91266817 112.54901445] [642.08001084 111.2437237 ] [670.26494581 114.46303458]\n",
      "start_point:[642.080010844636, 111.24372370391231]\n",
      "end_point:[670.2649458070832, 114.46303457740797]\n",
      "Face vertices indices: [2732 2740 2670]\n",
      "[670.26494581 114.46303458] [794.03593916 184.84374791] [643.91266817 112.54901445]\n",
      "start_point:[643.9126681686548, 112.54901445129104]\n",
      "end_point:[643.9126681686548, 184.84374790721694]\n",
      "Face vertices indices: [2570 2563 2664]\n",
      "[581.62888474 185.10630083] [635.73195483  94.53243672] [642.08001084 111.2437237 ]\n",
      "start_point:[581.6288847439101, 94.53243671513361]\n",
      "end_point:[642.080010844636, 185.10630082684122]\n",
      "Face vertices indices: [2664 2670 2570]\n",
      "[642.08001084 111.2437237 ] [643.91266817 112.54901445] [581.62888474 185.10630083]\n",
      "start_point:[581.6288847439101, 111.24372370391231]\n",
      "end_point:[581.6288847439101, 185.10630082684122]\n",
      "Face vertices indices: [2477 2472 2563]\n",
      "[629.66669518  82.73684539] [627.00312891  80.28509536] [635.73195483  94.53243672]\n",
      "start_point:[627.0031289100878, 80.28509536401658]\n",
      "end_point:[635.7319548254025, 94.53243671513361]\n",
      "Face vertices indices: [2563 2570 2477]\n",
      "[635.73195483  94.53243672] [581.62888474 185.10630083] [629.66669518  82.73684539]\n",
      "start_point:[581.6288847439101, 82.73684539464122]\n",
      "end_point:[635.7319548254025, 185.10630082684122]\n",
      "Face vertices indices: [2359 2353 2472]\n",
      "[617.61858888  70.13042525] [630.52533848 425.16600077] [627.00312891  80.28509536]\n",
      "start_point:[617.6185888838181, 70.13042524588839]\n",
      "end_point:[617.6185888838181, 425.16600076711995]\n",
      "Face vertices indices: [2472 2477 2359]\n",
      "[627.00312891  80.28509536] [629.66669518  82.73684539] [617.61858888  70.13042525]\n",
      "start_point:[617.6185888838181, 70.13042524588839]\n",
      "end_point:[627.0031289100878, 82.73684539464122]\n",
      "Face vertices indices: [2159 2154 2353]\n",
      "[602.12262822  59.65376155] [599.50609941  57.23154877] [630.52533848 425.16600077]\n",
      "start_point:[599.5060994139233, 57.23154876722529]\n",
      "end_point:[630.5253384846233, 425.16600076711995]\n",
      "Face vertices indices: [2353 2359 2159]\n",
      "[630.52533848 425.16600077] [617.61858888  70.13042525] [602.12262822  59.65376155]\n",
      "start_point:[602.1226282162133, 59.65376155054518]\n",
      "end_point:[630.5253384846233, 425.16600076711995]\n",
      "Face vertices indices: [1717 1926 2154]\n",
      "[465.13528547 286.74808089] [717.97417801  96.65605451] [599.50609941  57.23154877]\n",
      "start_point:[465.1352854729901, 57.23154876722529]\n",
      "end_point:[465.1352854729901, 286.7480808855732]\n",
      "Face vertices indices: [2154 2159 1717]\n",
      "[599.50609941  57.23154877] [602.12262822  59.65376155] [465.13528547 286.74808089]\n",
      "start_point:[465.1352854729901, 57.23154876722529]\n",
      "end_point:[599.5060994139233, 286.7480808855732]\n",
      "Face vertices indices: [2928 2910 2934]\n",
      "[796.15638475 195.53034588] [636.46227725 181.08478485] [647.34018591 161.09156309]\n",
      "start_point:[636.4622772451064, 161.09156309368242]\n",
      "end_point:[796.1563847459037, 195.53034588200973]\n",
      "Face vertices indices: [2934 2946 2928]\n",
      "[647.34018591 161.09156309] [636.41657859 177.7489317 ] [796.15638475 195.53034588]\n",
      "start_point:[636.41657858597, 161.09156309368242]\n",
      "end_point:[796.1563847459037, 195.53034588200973]\n",
      "Face vertices indices: [2880 2874 2910]\n",
      "[701.65206446 401.37389408] [782.06706276 296.47282241] [636.46227725 181.08478485]\n",
      "start_point:[636.4622772451064, 181.0847848492275]\n",
      "end_point:[636.4622772451064, 401.37389407922717]\n",
      "Face vertices indices: [2910 2928 2880]\n",
      "[636.46227725 181.08478485] [796.15638475 195.53034588] [701.65206446 401.37389408]\n",
      "start_point:[636.4622772451064, 181.0847848492275]\n",
      "end_point:[701.6520644599012, 401.37389407922717]\n",
      "Face vertices indices: [2828 2822 2874]\n",
      "[648.7786186  147.74758604] [637.08040691 166.51399164] [782.06706276 296.47282241]\n",
      "start_point:[637.0804069113531, 147.7475860407225]\n",
      "end_point:[782.0670627587663, 296.47282240616425]\n",
      "Face vertices indices: [2874 2880 2828]\n",
      "[782.06706276 296.47282241] [701.65206446 401.37389408] [648.7786186  147.74758604]\n",
      "start_point:[648.7786186025785, 147.7475860407225]\n",
      "end_point:[782.0670627587663, 401.37389407922717]\n",
      "Face vertices indices: [2750 2740 2822]\n",
      "[584.49596548 239.26046335] [794.03593916 184.84374791] [637.08040691 166.51399164]\n",
      "start_point:[584.4959654757354, 166.51399164433838]\n",
      "end_point:[584.4959654757354, 239.26046335216077]\n",
      "Face vertices indices: [2822 2828 2750]\n",
      "[637.08040691 166.51399164] [648.7786186  147.74758604] [584.49596548 239.26046335]\n",
      "start_point:[584.4959654757354, 147.7475860407225]\n",
      "end_point:[637.0804069113531, 239.26046335216077]\n",
      "Face vertices indices: [2676 2670 2740]\n",
      "[788.67745932 217.11419372] [643.91266817 112.54901445] [794.03593916 184.84374791]\n",
      "start_point:[643.9126681686548, 112.54901445129104]\n",
      "end_point:[794.035939158524, 217.1141937168721]\n",
      "Face vertices indices: [2740 2750 2676]\n",
      "[794.03593916 184.84374791] [584.49596548 239.26046335] [788.67745932 217.11419372]\n",
      "start_point:[584.4959654757354, 184.84374790721694]\n",
      "end_point:[794.035939158524, 239.26046335216077]\n",
      "Face vertices indices: [2576 2570 2670]\n",
      "[641.36523321  98.19475404] [581.62888474 185.10630083] [643.91266817 112.54901445]\n",
      "start_point:[581.6288847439101, 98.19475404481871]\n",
      "end_point:[643.9126681686548, 185.10630082684122]\n",
      "Face vertices indices: [2670 2676 2576]\n",
      "[643.91266817 112.54901445] [788.67745932 217.11419372] [641.36523321  98.19475404]\n",
      "start_point:[641.3652332129271, 98.19475404481871]\n",
      "end_point:[641.3652332129271, 217.1141937168721]\n",
      "Face vertices indices: [2481 2477 2570]\n",
      "[632.60060003  83.76462653] [629.66669518  82.73684539] [581.62888474 185.10630083]\n",
      "start_point:[581.6288847439101, 82.73684539464122]\n",
      "end_point:[632.6006000257812, 185.10630082684122]\n",
      "Face vertices indices: [2570 2576 2481]\n",
      "[581.62888474 185.10630083] [641.36523321  98.19475404] [632.60060003  83.76462653]\n",
      "start_point:[581.6288847439101, 83.76462652620883]\n",
      "end_point:[581.6288847439101, 185.10630082684122]\n",
      "Face vertices indices: [2363 2359 2477]\n",
      "[620.46193621  71.01719264] [617.61858888  70.13042525] [629.66669518  82.73684539]\n",
      "start_point:[617.6185888838181, 70.13042524588839]\n",
      "end_point:[629.6666951810595, 82.73684539464122]\n",
      "Face vertices indices: [2477 2481 2363]\n",
      "[629.66669518  82.73684539] [632.60060003  83.76462653] [620.46193621  71.01719264]\n",
      "start_point:[620.4619362119718, 71.0171926442636]\n",
      "end_point:[620.4619362119718, 83.76462652620883]\n",
      "Face vertices indices: [2163 2159 2359]\n",
      "[604.82315143  60.42081795] [602.12262822  59.65376155] [617.61858888  70.13042525]\n",
      "start_point:[602.1226282162133, 59.65376155054518]\n",
      "end_point:[617.6185888838181, 70.13042524588839]\n",
      "Face vertices indices: [2359 2363 2163]\n",
      "[617.61858888  70.13042525] [620.46193621  71.01719264] [604.82315143  60.42081795]\n",
      "start_point:[604.8231514281138, 60.4208179527161]\n",
      "end_point:[604.8231514281138, 71.0171926442636]\n",
      "Face vertices indices: [1841 1717 2159]\n",
      "[581.82189502  44.86922542] [465.13528547 286.74808089] [602.12262822  59.65376155]\n",
      "start_point:[465.1352854729901, 44.86922542110692]\n",
      "end_point:[602.1226282162133, 286.7480808855732]\n",
      "Face vertices indices: [2159 2163 1841]\n",
      "[602.12262822  59.65376155] [604.82315143  60.42081795] [581.82189502  44.86922542]\n",
      "start_point:[581.821895019442, 44.86922542110692]\n",
      "end_point:[581.821895019442, 60.4208179527161]\n",
      "Face vertices indices: [2944 2928 2946]\n",
      "[671.3436803  152.60200084] [796.15638475 195.53034588] [636.41657859 177.7489317 ]\n",
      "start_point:[636.41657858597, 152.60200084350916]\n",
      "end_point:[636.41657858597, 195.53034588200973]\n",
      "Face vertices indices: [2946 2958 2944]\n",
      "[636.41657859 177.7489317 ] [793.86011499 246.08007829] [671.3436803  152.60200084]\n",
      "start_point:[636.41657858597, 152.60200084350916]\n",
      "end_point:[671.3436802972466, 246.08007829389854]\n",
      "Face vertices indices: [2896 2880 2928]\n",
      "[699.72222298 398.15973888] [701.65206446 401.37389408] [796.15638475 195.53034588]\n",
      "start_point:[699.7222229844, 195.53034588200973]\n",
      "end_point:[796.1563847459037, 401.37389407922717]\n",
      "Face vertices indices: [2928 2944 2896]\n",
      "[796.15638475 195.53034588] [671.3436803  152.60200084] [699.72222298 398.15973888]\n",
      "start_point:[671.3436802972466, 152.60200084350916]\n",
      "end_point:[796.1563847459037, 398.1597388821773]\n",
      "Face vertices indices: [2834 2828 2880]\n",
      "[609.29701029 212.59189206] [648.7786186  147.74758604] [701.65206446 401.37389408]\n",
      "start_point:[609.2970102898814, 147.7475860407225]\n",
      "end_point:[701.6520644599012, 401.37389407922717]\n",
      "Face vertices indices: [2880 2896 2834]\n",
      "[701.65206446 401.37389408] [699.72222298 398.15973888] [609.29701029 212.59189206]\n",
      "start_point:[609.2970102898814, 212.59189206304006]\n",
      "end_point:[701.6520644599012, 401.37389407922717]\n",
      "Face vertices indices: [2760 2750 2828]\n",
      "[625.72217122 163.35646404] [584.49596548 239.26046335] [648.7786186  147.74758604]\n",
      "start_point:[584.4959654757354, 147.7475860407225]\n",
      "end_point:[648.7786186025785, 239.26046335216077]\n",
      "Face vertices indices: [2828 2834 2760]\n",
      "[648.7786186  147.74758604] [609.29701029 212.59189206] [625.72217122 163.35646404]\n",
      "start_point:[609.2970102898814, 147.7475860407225]\n",
      "end_point:[648.7786186025785, 212.59189206304006]\n",
      "Face vertices indices: [2678 2676 2750]\n",
      "[642.35669817 108.1380507 ] [788.67745932 217.11419372] [584.49596548 239.26046335]\n",
      "start_point:[584.4959654757354, 108.13805069692286]\n",
      "end_point:[642.3566981724252, 239.26046335216077]\n",
      "Face vertices indices: [2750 2760 2678]\n",
      "[584.49596548 239.26046335] [625.72217122 163.35646404] [642.35669817 108.1380507 ]\n",
      "start_point:[584.4959654757354, 108.13805069692286]\n",
      "end_point:[642.3566981724252, 239.26046335216077]\n",
      "Face vertices indices: [2578 2576 2676]\n",
      "[636.75042848  92.37294961] [641.36523321  98.19475404] [788.67745932 217.11419372]\n",
      "start_point:[636.7504284750568, 92.37294961195718]\n",
      "end_point:[788.677459316824, 217.1141937168721]\n",
      "Face vertices indices: [2676 2678 2578]\n",
      "[788.67745932 217.11419372] [642.35669817 108.1380507 ] [636.75042848  92.37294961]\n",
      "start_point:[636.7504284750568, 92.37294961195718]\n",
      "end_point:[788.677459316824, 217.1141937168721]\n",
      "Face vertices indices: [2485 2481 2576]\n",
      "[610.56828087 110.40532929] [632.60060003  83.76462653] [641.36523321  98.19475404]\n",
      "start_point:[610.56828087034, 83.76462652620883]\n",
      "end_point:[641.3652332129271, 110.40532928738082]\n",
      "Face vertices indices: [2576 2578 2485]\n",
      "[641.36523321  98.19475404] [636.75042848  92.37294961] [610.56828087 110.40532929]\n",
      "start_point:[610.56828087034, 92.37294961195718]\n",
      "end_point:[641.3652332129271, 110.40532928738082]\n",
      "Face vertices indices: [2367 2363 2481]\n",
      "[591.66188831 107.23343905] [620.46193621  71.01719264] [632.60060003  83.76462653]\n",
      "start_point:[591.6618883137526, 71.0171926442636]\n",
      "end_point:[632.6006000257812, 107.23343904764403]\n",
      "Face vertices indices: [2481 2485 2367]\n",
      "[632.60060003  83.76462653] [610.56828087 110.40532929] [591.66188831 107.23343905]\n",
      "start_point:[591.6618883137526, 83.76462652620883]\n",
      "end_point:[632.6006000257812, 110.40532928738082]\n"
     ]
    },
    {
     "ename": "KeyboardInterrupt",
     "evalue": "",
     "output_type": "error",
     "traceback": [
      "\u001b[0;31m---------------------------------------------------------------------------\u001b[0m",
      "\u001b[0;31mKeyboardInterrupt\u001b[0m                         Traceback (most recent call last)",
      "\u001b[0;32m<ipython-input-43-537926d38222>\u001b[0m in \u001b[0;36m<cell line: 17>\u001b[0;34m()\u001b[0m\n\u001b[1;32m     74\u001b[0m       \u001b[0;32mfor\u001b[0m \u001b[0mx\u001b[0m \u001b[0;32min\u001b[0m \u001b[0mrange\u001b[0m\u001b[0;34m(\u001b[0m\u001b[0mint\u001b[0m\u001b[0;34m(\u001b[0m\u001b[0mstart_point\u001b[0m\u001b[0;34m[\u001b[0m\u001b[0;36m0\u001b[0m\u001b[0;34m]\u001b[0m\u001b[0;34m)\u001b[0m\u001b[0;34m,\u001b[0m\u001b[0mint\u001b[0m\u001b[0;34m(\u001b[0m\u001b[0mend_point\u001b[0m\u001b[0;34m[\u001b[0m\u001b[0;36m0\u001b[0m\u001b[0;34m]\u001b[0m\u001b[0;34m)\u001b[0m\u001b[0;34m+\u001b[0m\u001b[0;36m2\u001b[0m\u001b[0;34m)\u001b[0m\u001b[0;34m:\u001b[0m\u001b[0;34m\u001b[0m\u001b[0;34m\u001b[0m\u001b[0m\n\u001b[1;32m     75\u001b[0m         \u001b[0;32mif\u001b[0m\u001b[0;34m(\u001b[0m\u001b[0mPointInTriangle2D\u001b[0m\u001b[0;34m(\u001b[0m\u001b[0mposition1\u001b[0m\u001b[0;34m,\u001b[0m\u001b[0mposition2\u001b[0m\u001b[0;34m,\u001b[0m\u001b[0mposition3\u001b[0m\u001b[0;34m,\u001b[0m\u001b[0mx\u001b[0m\u001b[0;34m,\u001b[0m\u001b[0my\u001b[0m\u001b[0;34m)\u001b[0m\u001b[0;34m!=\u001b[0m\u001b[0;36m0\u001b[0m\u001b[0;34m)\u001b[0m\u001b[0;34m:\u001b[0m\u001b[0;34m\u001b[0m\u001b[0;34m\u001b[0m\u001b[0m\n\u001b[0;32m---> 76\u001b[0;31m           \u001b[0mdepth\u001b[0m \u001b[0;34m=\u001b[0m \u001b[0mGetDepth\u001b[0m\u001b[0;34m(\u001b[0m\u001b[0mposition1\u001b[0m\u001b[0;34m,\u001b[0m\u001b[0mposition2\u001b[0m\u001b[0;34m,\u001b[0m\u001b[0mposition3\u001b[0m\u001b[0;34m,\u001b[0m\u001b[0mz_vector\u001b[0m\u001b[0;34m[\u001b[0m\u001b[0mface\u001b[0m\u001b[0;34m[\u001b[0m\u001b[0;36m0\u001b[0m\u001b[0;34m]\u001b[0m\u001b[0;34m-\u001b[0m\u001b[0;36m1\u001b[0m\u001b[0;34m]\u001b[0m\u001b[0;34m,\u001b[0m\u001b[0mz_vector\u001b[0m\u001b[0;34m[\u001b[0m\u001b[0mface\u001b[0m\u001b[0;34m[\u001b[0m\u001b[0;36m1\u001b[0m\u001b[0;34m]\u001b[0m\u001b[0;34m-\u001b[0m\u001b[0;36m1\u001b[0m\u001b[0;34m]\u001b[0m\u001b[0;34m,\u001b[0m\u001b[0mz_vector\u001b[0m\u001b[0;34m[\u001b[0m\u001b[0mface\u001b[0m\u001b[0;34m[\u001b[0m\u001b[0;36m2\u001b[0m\u001b[0;34m]\u001b[0m\u001b[0;34m-\u001b[0m\u001b[0;36m1\u001b[0m\u001b[0;34m]\u001b[0m\u001b[0;34m,\u001b[0m\u001b[0mx\u001b[0m\u001b[0;34m,\u001b[0m\u001b[0my\u001b[0m\u001b[0;34m)\u001b[0m\u001b[0;34m\u001b[0m\u001b[0;34m\u001b[0m\u001b[0m\n\u001b[0m\u001b[1;32m     77\u001b[0m           \u001b[0;31m#color = GetColor(position1,position2,position3,)  # need to fill parameter, each vertices corresponding color, reference GetDepth\u001b[0m\u001b[0;34m\u001b[0m\u001b[0;34m\u001b[0m\u001b[0m\n\u001b[1;32m     78\u001b[0m           \u001b[0;32mif\u001b[0m\u001b[0;34m(\u001b[0m \u001b[0mdepth\u001b[0m \u001b[0;34m<\u001b[0m \u001b[0mDepthstate\u001b[0m\u001b[0;34m[\u001b[0m\u001b[0mx\u001b[0m\u001b[0;34m+\u001b[0m\u001b[0;36m1280\u001b[0m\u001b[0;34m*\u001b[0m\u001b[0my\u001b[0m\u001b[0;34m]\u001b[0m \u001b[0;34m)\u001b[0m\u001b[0;34m:\u001b[0m        \u001b[0;31m#replace color\u001b[0m\u001b[0;34m\u001b[0m\u001b[0;34m\u001b[0m\u001b[0m\n",
      "\u001b[0;32m<ipython-input-39-7f6d536e0ff3>\u001b[0m in \u001b[0;36mGetDepth\u001b[0;34m(position1, position2, position3, position1_depth, position2_depth, position3_depth, x, y)\u001b[0m\n\u001b[0;32m----> 1\u001b[0;31m \u001b[0;32mdef\u001b[0m \u001b[0mGetDepth\u001b[0m\u001b[0;34m(\u001b[0m\u001b[0mposition1\u001b[0m\u001b[0;34m,\u001b[0m\u001b[0mposition2\u001b[0m\u001b[0;34m,\u001b[0m\u001b[0mposition3\u001b[0m\u001b[0;34m,\u001b[0m\u001b[0mposition1_depth\u001b[0m\u001b[0;34m,\u001b[0m\u001b[0mposition2_depth\u001b[0m\u001b[0;34m,\u001b[0m\u001b[0mposition3_depth\u001b[0m\u001b[0;34m,\u001b[0m\u001b[0mx\u001b[0m\u001b[0;34m,\u001b[0m\u001b[0my\u001b[0m\u001b[0;34m)\u001b[0m\u001b[0;34m:\u001b[0m\u001b[0;34m\u001b[0m\u001b[0;34m\u001b[0m\u001b[0m\n\u001b[0m\u001b[1;32m      2\u001b[0m   \u001b[0mx1\u001b[0m \u001b[0;34m=\u001b[0m \u001b[0mposition1\u001b[0m\u001b[0;34m[\u001b[0m\u001b[0;36m0\u001b[0m\u001b[0;34m]\u001b[0m\u001b[0;34m\u001b[0m\u001b[0;34m\u001b[0m\u001b[0m\n\u001b[1;32m      3\u001b[0m   \u001b[0mx2\u001b[0m \u001b[0;34m=\u001b[0m \u001b[0mposition2\u001b[0m\u001b[0;34m[\u001b[0m\u001b[0;36m0\u001b[0m\u001b[0;34m]\u001b[0m\u001b[0;34m\u001b[0m\u001b[0;34m\u001b[0m\u001b[0m\n\u001b[1;32m      4\u001b[0m   \u001b[0mx3\u001b[0m \u001b[0;34m=\u001b[0m \u001b[0mposition3\u001b[0m\u001b[0;34m[\u001b[0m\u001b[0;36m0\u001b[0m\u001b[0;34m]\u001b[0m\u001b[0;34m\u001b[0m\u001b[0;34m\u001b[0m\u001b[0m\n\u001b[1;32m      5\u001b[0m \u001b[0;34m\u001b[0m\u001b[0m\n",
      "\u001b[0;31mKeyboardInterrupt\u001b[0m: "
     ]
    }
   ],
   "source": [
    "#   mesh  : screen position\n",
    "\n",
    "#   mesh.screen_space_vertices\n",
    "#   mesh.NDC_vertices[:, 2]  --> z\n",
    "\n",
    "print(mesh.screen_space_vertices)\n",
    "\n",
    "position_data = mesh.screen_space_vertices\n",
    "\n",
    "print(mesh.NDC_vertices[:, 2])\n",
    "\n",
    "z_vector = mesh.NDC_vertices[:, 2]\n",
    "\n",
    "Depthstate = np.ones(1280 * 720, dtype=int)\n",
    "Color   = np.zeros((2, 3))\n",
    "\n",
    "for face in mesh.faces:\n",
    "  print(\"Face vertices indices:\", face)\n",
    "  position1 = position_data[face[0]-1]\n",
    "  position2 = position_data[face[1]-1]\n",
    "  position3 = position_data[face[2]-1]\n",
    "  print(position1,position2,position3)\n",
    "\n",
    "  # 找出最大值的索引\n",
    "  if position1[0] >= position2[0] and position1[0] >= position3[0]:\n",
    "      max_index_x = 0\n",
    "  elif position2[0] >= position1[0] and position2[0] >= position3[0]:\n",
    "      max_index = 1\n",
    "  elif position3[0] >= position1[0] and position3[0] >= position2[0]:\n",
    "      max_index_x = 2\n",
    "  else:\n",
    "      max_index_x = 0\n",
    "\n",
    "  # 找出最小值的索引\n",
    "  if position3[0] <= position1[0] and position3[0] <= position2[0]:\n",
    "      min_index_x = 2\n",
    "  elif position2[0] <= position1[0] and position2[0] <= position3[0]:\n",
    "      min_index_x = 1\n",
    "  elif position1[0] <= position2[0] and position1[0] <= position3[0]:\n",
    "      min_index_x = 0\n",
    "  else:\n",
    "      min_index_x = 0\n",
    "\n",
    "  # 找出最大值的索引\n",
    "  if position1[1] >= position2[1] and position1[1] >= position3[1]:\n",
    "      max_index_y = 0\n",
    "  elif position2[1] >= position1[1] and position2[1] >= position3[1]:\n",
    "      max_index_y = 1\n",
    "  elif position3[1] >= position1[1] and position3[1] >= position2[1]:\n",
    "      max_index_y = 2\n",
    "  else:\n",
    "      max_index_y = 0\n",
    "\n",
    "  # 找出最小值的索引\n",
    "  if position3[1] <= position1[1] and position3[1] <= position2[1]:\n",
    "      min_index_y = 2\n",
    "  elif position2[1] <= position1[1] and position2[1] <= position3[1]:\n",
    "      min_index_y = 1\n",
    "  elif position1[1] <= position2[1] and position1[1] <= position3[1]:\n",
    "      min_index_y = 0\n",
    "  else:\n",
    "      min_index_y = 0\n",
    "\n",
    "  # start point = min_index_x , min_index_y\n",
    "  # end point = max_index_x , max_index_y\n",
    "\n",
    "  start_point = [position_data[face[min_index_x] - 1][0], position_data[face[min_index_y] - 1][1]]\n",
    "  end_point = [position_data[face[max_index_x] - 1][0], position_data[face[max_index_y] - 1][1]]\n",
    "\n",
    "  print(f\"start_point:{start_point}\")\n",
    "  print(f\"end_point:{end_point}\")\n",
    "\n",
    "  for y in range(int(start_point[1]),int(end_point[1])+2):\n",
    "      for x in range(int(start_point[0]),int(end_point[0])+2):\n",
    "        if(PointInTriangle2D(position1,position2,position3,x,y)!=0):\n",
    "          depth = GetDepth(position1,position2,position3,z_vector[face[0]-1],z_vector[face[1]-1],z_vector[face[2]-1],x,y)\n",
    "          #color = GetColor(position1,position2,position3,)  # need to fill parameter, each vertices corresponding color, reference GetDepth\n",
    "          if( depth < Depthstate[x+1280*y] ):        #replace color\n",
    "            Depthstate[x+1280*y] = depth\n",
    "            #Color[x+1280*y] = color\n",
    "            #print(x,y,depth)\n",
    "\n",
    "\n",
    "\n"
   ]
  },
  {
   "cell_type": "markdown",
   "metadata": {
    "id": "BUlDKEggs5vK"
   },
   "source": []
  }
 ],
 "metadata": {
  "colab": {
   "provenance": []
  },
  "kernelspec": {
   "display_name": "Python 3",
   "name": "python3"
  },
  "language_info": {
   "codemirror_mode": {
    "name": "ipython",
    "version": 3
   },
   "file_extension": ".py",
   "mimetype": "text/x-python",
   "name": "python",
   "nbconvert_exporter": "python",
   "pygments_lexer": "ipython3",
   "version": "3.11.4"
  }
 },
 "nbformat": 4,
 "nbformat_minor": 0
}
